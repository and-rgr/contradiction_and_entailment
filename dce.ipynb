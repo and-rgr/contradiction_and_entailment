{
  "nbformat": 4,
  "nbformat_minor": 0,
  "metadata": {
    "colab": {
      "name": "dce.ipynb",
      "provenance": [],
      "collapsed_sections": [],
      "authorship_tag": "ABX9TyPQRemodKAh4o3SJ/PPmumy",
      "include_colab_link": true
    },
    "kernelspec": {
      "name": "python3",
      "display_name": "Python 3"
    },
    "language_info": {
      "name": "python"
    },
    "accelerator": "GPU"
  },
  "cells": [
    {
      "cell_type": "markdown",
      "metadata": {
        "id": "view-in-github",
        "colab_type": "text"
      },
      "source": [
        "<a href=\"https://colab.research.google.com/github/and-rgr/contradiction_and_entailment/blob/main/dce.ipynb\" target=\"_parent\"><img src=\"https://colab.research.google.com/assets/colab-badge.svg\" alt=\"Open In Colab\"/></a>"
      ]
    },
    {
      "cell_type": "code",
      "source": [
        "# from google.colab import drive\n",
        "# drive.mount('/content/drive')"
      ],
      "metadata": {
        "id": "vcBcCi0sMmyy"
      },
      "execution_count": 1,
      "outputs": []
    },
    {
      "cell_type": "code",
      "source": [
        "# must enable GPU or TPU for Google Colab\n",
        "# menu Runtime > Change Runtime Type"
      ],
      "metadata": {
        "id": "naFTpxxz6r3r"
      },
      "execution_count": 2,
      "outputs": []
    },
    {
      "cell_type": "code",
      "source": [
        "import tensorflow as tf"
      ],
      "metadata": {
        "id": "aZM40Vb92ZFR"
      },
      "execution_count": 3,
      "outputs": []
    },
    {
      "cell_type": "code",
      "source": [
        "troubleshoot = False\n",
        "\n",
        "if troubleshoot == True:\n",
        "    python_version = !python --version\n",
        "    print(python_version[0], '\\n')\n",
        "    print('tensorflow version: ', tf.version.VERSION, '\\n')\n",
        "    nvcc_version = !nvcc --version\n",
        "    for i in range(len(nvcc_version)):\n",
        "        print(nvcc_version[i])\n",
        "    print('')\n",
        "    session = tf.compat.v1.Session(config=tf.compat.v1.ConfigProto(log_device_placement=True))\n",
        "    print(session, '\\n')\n",
        "    gpu_device = tf.test.gpu_device_name()\n",
        "    print(gpu_device, '\\n')\n",
        "    nvidia_smi = !nvidia-smi\n",
        "    for row in nvidia_smi:\n",
        "        print(row)"
      ],
      "metadata": {
        "id": "-QN8i4xlkfE1"
      },
      "execution_count": 4,
      "outputs": []
    },
    {
      "cell_type": "code",
      "source": [
        "!ls"
      ],
      "metadata": {
        "id": "bJcxhQcsNKwr",
        "colab": {
          "base_uri": "https://localhost:8080/"
        },
        "outputId": "cfabe0c1-1acb-4e98-8756-c8884584651a"
      },
      "execution_count": 5,
      "outputs": [
        {
          "output_type": "stream",
          "name": "stdout",
          "text": [
            "sample_data  test.csv  train.csv\n"
          ]
        }
      ]
    },
    {
      "cell_type": "code",
      "source": [
        "!pip install transformers"
      ],
      "metadata": {
        "id": "aFoc7dHHNSWs",
        "colab": {
          "base_uri": "https://localhost:8080/"
        },
        "outputId": "f9262c20-3114-466a-b62d-afcaf7c8e067"
      },
      "execution_count": 6,
      "outputs": [
        {
          "output_type": "stream",
          "name": "stdout",
          "text": [
            "Requirement already satisfied: transformers in /usr/local/lib/python3.7/dist-packages (4.15.0)\n",
            "Requirement already satisfied: sacremoses in /usr/local/lib/python3.7/dist-packages (from transformers) (0.0.47)\n",
            "Requirement already satisfied: requests in /usr/local/lib/python3.7/dist-packages (from transformers) (2.23.0)\n",
            "Requirement already satisfied: importlib-metadata in /usr/local/lib/python3.7/dist-packages (from transformers) (4.10.0)\n",
            "Requirement already satisfied: regex!=2019.12.17 in /usr/local/lib/python3.7/dist-packages (from transformers) (2019.12.20)\n",
            "Requirement already satisfied: tokenizers<0.11,>=0.10.1 in /usr/local/lib/python3.7/dist-packages (from transformers) (0.10.3)\n",
            "Requirement already satisfied: packaging>=20.0 in /usr/local/lib/python3.7/dist-packages (from transformers) (21.3)\n",
            "Requirement already satisfied: huggingface-hub<1.0,>=0.1.0 in /usr/local/lib/python3.7/dist-packages (from transformers) (0.4.0)\n",
            "Requirement already satisfied: filelock in /usr/local/lib/python3.7/dist-packages (from transformers) (3.4.2)\n",
            "Requirement already satisfied: numpy>=1.17 in /usr/local/lib/python3.7/dist-packages (from transformers) (1.19.5)\n",
            "Requirement already satisfied: tqdm>=4.27 in /usr/local/lib/python3.7/dist-packages (from transformers) (4.62.3)\n",
            "Requirement already satisfied: pyyaml>=5.1 in /usr/local/lib/python3.7/dist-packages (from transformers) (6.0)\n",
            "Requirement already satisfied: typing-extensions>=3.7.4.3 in /usr/local/lib/python3.7/dist-packages (from huggingface-hub<1.0,>=0.1.0->transformers) (3.10.0.2)\n",
            "Requirement already satisfied: pyparsing!=3.0.5,>=2.0.2 in /usr/local/lib/python3.7/dist-packages (from packaging>=20.0->transformers) (3.0.6)\n",
            "Requirement already satisfied: zipp>=0.5 in /usr/local/lib/python3.7/dist-packages (from importlib-metadata->transformers) (3.7.0)\n",
            "Requirement already satisfied: urllib3!=1.25.0,!=1.25.1,<1.26,>=1.21.1 in /usr/local/lib/python3.7/dist-packages (from requests->transformers) (1.24.3)\n",
            "Requirement already satisfied: idna<3,>=2.5 in /usr/local/lib/python3.7/dist-packages (from requests->transformers) (2.10)\n",
            "Requirement already satisfied: chardet<4,>=3.0.2 in /usr/local/lib/python3.7/dist-packages (from requests->transformers) (3.0.4)\n",
            "Requirement already satisfied: certifi>=2017.4.17 in /usr/local/lib/python3.7/dist-packages (from requests->transformers) (2021.10.8)\n",
            "Requirement already satisfied: six in /usr/local/lib/python3.7/dist-packages (from sacremoses->transformers) (1.15.0)\n",
            "Requirement already satisfied: joblib in /usr/local/lib/python3.7/dist-packages (from sacremoses->transformers) (1.1.0)\n",
            "Requirement already satisfied: click in /usr/local/lib/python3.7/dist-packages (from sacremoses->transformers) (7.1.2)\n"
          ]
        }
      ]
    },
    {
      "cell_type": "code",
      "source": [
        "!pip install sentencepiece"
      ],
      "metadata": {
        "id": "d-Yy2TAwNw9i",
        "colab": {
          "base_uri": "https://localhost:8080/"
        },
        "outputId": "e1e4f694-66fc-4f91-f203-1b921322ea25"
      },
      "execution_count": 7,
      "outputs": [
        {
          "output_type": "stream",
          "name": "stdout",
          "text": [
            "Requirement already satisfied: sentencepiece in /usr/local/lib/python3.7/dist-packages (0.1.96)\n"
          ]
        }
      ]
    },
    {
      "cell_type": "code",
      "source": [
        "import os\n",
        "import pandas as pd\n",
        "import numpy as np\n",
        "import matplotlib.pyplot as plt\n",
        "\n",
        "# imported above\n",
        "# import tensorflow as tf\n",
        "\n",
        "# requires the sentencepiece package (unsupervised text tokenizer and detokenizer)\n",
        "from transformers import TFAutoModel,AutoTokenizer\n",
        "\n",
        "# used for the BertTokenizer\n",
        "# from transformers import BertTokenizer, TFBertModel\n",
        "\n",
        "## see the entire dataframe width in the console\n",
        "pd.set_option('display.expand_frame_repr', False)\n",
        "\n",
        "## to silence warning - what?\n",
        "os.environ[\"WANDB_API_KEY\"] = \"0\"\n",
        "\n",
        "# check the TPU\n",
        "try:\n",
        "    tpu = tf.distribute.cluster_resolver.TPUClusterResolver()\n",
        "    tf.config.experimental_connect_to_cluster(tpu)\n",
        "    tf.tpu.experimental.initialize_tpu_system(tpu)\n",
        "    strategy = tf.distribute.experimental.TPUStrategy(tpu)\n",
        "except ValueError:\n",
        "    strategy = tf.distribute.get_strategy() # for CPU and single GPU\n",
        "\n",
        "print('Number of replicas:', strategy.num_replicas_in_sync)\n",
        "\n",
        "# see available files\n",
        "for dirname, _, filenames in os.walk('.'):\n",
        "    for filename in filenames:\n",
        "        print(os.path.join(dirname, filename))"
      ],
      "metadata": {
        "id": "jw_OR806N01o",
        "colab": {
          "base_uri": "https://localhost:8080/"
        },
        "outputId": "4cec9b86-2aae-4175-ca9e-f651d3961fbb"
      },
      "execution_count": 8,
      "outputs": [
        {
          "output_type": "stream",
          "name": "stdout",
          "text": [
            "Number of replicas: 1\n",
            "./train.csv\n",
            "./test.csv\n",
            "./.config/.last_update_check.json\n",
            "./.config/gce\n",
            "./.config/.last_survey_prompt.yaml\n",
            "./.config/active_config\n",
            "./.config/config_sentinel\n",
            "./.config/.last_opt_in_prompt.yaml\n",
            "./.config/logs/2022.01.07/14.32.37.114755.log\n",
            "./.config/logs/2022.01.07/14.33.41.864886.log\n",
            "./.config/logs/2022.01.07/14.33.42.565580.log\n",
            "./.config/logs/2022.01.07/14.33.15.504888.log\n",
            "./.config/logs/2022.01.07/14.33.22.232212.log\n",
            "./.config/logs/2022.01.07/14.32.57.118850.log\n",
            "./.config/configurations/config_default\n",
            "./sample_data/README.md\n",
            "./sample_data/anscombe.json\n",
            "./sample_data/mnist_test.csv\n",
            "./sample_data/california_housing_test.csv\n",
            "./sample_data/california_housing_train.csv\n",
            "./sample_data/mnist_train_small.csv\n"
          ]
        }
      ]
    },
    {
      "cell_type": "code",
      "execution_count": 9,
      "metadata": {
        "id": "-_Whld4tMGdV",
        "colab": {
          "base_uri": "https://localhost:8080/",
          "height": 1000
        },
        "outputId": "568e9c08-5606-4794-84ac-ca00e64cd237"
      },
      "outputs": [
        {
          "output_type": "stream",
          "name": "stdout",
          "text": [
            "(1000, 6)\n",
            "(500, 5)\n",
            "             id                                            premise                                         hypothesis lang_abv   language  label\n",
            "990  dc6d34e8fc  yeah it's definitely a way out of the way wher...                Yes. There is definitely a way out.       en    English      0\n",
            "991  f1c261fbe7  for me now the address is the same you know my...                                   I am unemployed.       en    English      2\n",
            "992  45f0a284fe  go up to state parks with six shelters and lit...  The state parks are almost always kept in good...       en    English      1\n",
            "993  8f3e2edef2  حسنا ، بالنظر إلى أن بيل برادلي ترعرع في سانت ...                             كان برادلي من أركنساس.       ar     Arabic      2\n",
            "994  a93da21777  Ve o zaman annesine söyledi, annesi öne doğru ...  Annesinin felçli olduğunu ve yürüyemediğini sö...       tr    Turkish      2\n",
            "995  896fbf2ec0  Ако достатъчно хора купят тази книга, скоро ще...  Книгата ще се нуждае само от едно представяне,...       bg  Bulgarian      2\n",
            "996  736205e72e  However unsatisfactory and over-argued the rev...  During the Cold War, the United States acted i...       en    English      0\n",
            "997  ce3d289567  EPA estimates that 5.6 million acres of lakes,...  The release of mercury has an impact on rivers...       en    English      0\n",
            "998  d7eec99181  So, gut ich, äh, wie auch immer, äh, äh, dies ...  Dies ist General May und drei U2 Piloten im Bü...       de     German      0\n",
            "999  95bd69302c  على سبيل المثال ، تم استعارة التشخيص من كلمة ي...  الكلمة يونانيّ من أيّ تشخيص كان اقترضت عنى معم...       ar     Arabic      1\n",
            "             id                                            premise                                         hypothesis lang_abv    language\n",
            "490  3a699ec0db  यह तुम पर अच्छा लग रहा है।  तुम्हारे पति का क्...          Kya pati ko tumhara T-shirt pasand aya ??       hi       Hindi\n",
            "491  20459e1397  In fact, European nations need to do some seri...  The fiscal situation among European nations is...       en     English\n",
            "492  0238043528  आप जानते हैं, वर्जीनियाने ग्रैटिन के खिलाफ नवी...  अनुबंधों ने वकीलों के साथ बहुत सारे लाल झंडे उ...       hi       Hindi\n",
            "493  3759ca0204  من الجو ستتمكن من رؤية أن ولاية ساراواك تتباهى...                                   ريجان واضح جدًا.       ar      Arabic\n",
            "494  233dfba319                      میرے پاس ابھی تک چھ سکچیں ہیں  میری پاس صرف ایک اوراسکاچ کے گلاس کی گنجاؑش مو...       ur        Urdu\n",
            "495  ddadfa3ef5  Meanwhile, critics on the left argue that beca...     The US intervention in Kosovo is racist based.       en     English\n",
            "496  bed7eed97a  Với thời gian và công nghệ được cải tiến, tất ...             Điện thoại sẽ cải thiện với công nghệ.       vi  Vietnamese\n",
            "497  474ead0fc7  όχι όχι απαραίτητα μπορεί να είναι άνθρωποι εκ...  Μερικές φορές είναι οι εσωτερικοί άνθρωποι εκε...       el       Greek\n",
            "498  147dc077ea  Il s'arrêta brusquement à la vue du Capitaine ...                   Captain Blood était introuvable.       fr      French\n",
            "499  ae793b07c9  Ella dice, no te preocupes, ya sabes, tómate t...  Me dijo que no pasaba nada si tardaba horas en...       es     Spanish\n",
            "These are issues that we wrestle with in practice groups of law firms, she said.  \n",
            " Practice groups are not permitted to work on these issues. \n",
            " 2\n"
          ]
        },
        {
          "output_type": "display_data",
          "data": {
            "image/png": "[encoded data removed]",
            "text/plain": [
              "<Figure size 720x720 with 1 Axes>"
            ]
          },
          "metadata": {}
        },
        {
          "output_type": "stream",
          "name": "stdout",
          "text": [
            "0    348\n",
            "2    326\n",
            "1    326\n",
            "Name: label, dtype: int64\n"
          ]
        }
      ],
      "source": [
        "# load data\n",
        "train=pd.read_csv('train.csv')\n",
        "test=pd.read_csv('test.csv')\n",
        "\n",
        "# reduce data - optional\n",
        "train = train.iloc[:1000]\n",
        "test = test.iloc[:500]\n",
        "\n",
        "\n",
        "# inspect data\n",
        "print(train.shape)\n",
        "print(test.shape)\n",
        "\n",
        "print(train.tail(10))\n",
        "print(test.tail(10))\n",
        "\n",
        "print(train.premise.values[1], '\\n', train.hypothesis.values[1], '\\n', train.label.values[1])\n",
        "\n",
        "labels, frequencies = np.unique(train.language.values, return_counts = True)\n",
        "\n",
        "plt.figure(figsize = (10,10))\n",
        "plt.pie(frequencies,labels = labels, autopct = '%1.1f%%')\n",
        "plt.show()\n",
        "\n",
        "print(train.label.value_counts())"
      ]
    },
    {
      "cell_type": "code",
      "source": [
        "# Model\n",
        "\n",
        "# we download a pre-trained tokenizer\n",
        "# RoBERTa: A Robustly Optimized BERT Pretraining Approach\n",
        "model_name = \"joeddav/xlm-roberta-large-xnli\"\n",
        "tokenizer = AutoTokenizer.from_pretrained(model_name)\n",
        "\n",
        "# might also use\n",
        "# tokenizer2 = BertTokenizer.from_pretrained('bert-base-multilingual-cased')\n",
        "\n",
        "\n",
        "# batch_encode_plus() generates a dictionary with the input_ids, token_type_ids and the attention_mask as list for each input sentence\n",
        "# sentences with different lengths need to be truncated or padded, before combined into a single tensor\n",
        "# the attention mask is a binary tensor indicating the position of the padded indices so that the model does not attend to them\n",
        "# documentation:\n",
        "#     https://huggingface.co/docs/transformers/internal/tokenization_utils#transformers.tokenization_utils_base.PreTrainedTokenizerBase.batch_encode_plus\n",
        "train_enc=tokenizer.batch_encode_plus(train[['premise','hypothesis']].values.tolist(),padding='max_length',max_length=100,truncation=True,return_attention_mask=True)\n",
        "test_enc=tokenizer.batch_encode_plus(test[['premise','hypothesis']].values.tolist(),padding='max_length',max_length=100,truncation=True,return_attention_mask=True)\n",
        "\n",
        "# combine tokenization objects into training and test tensors\n",
        "# first time this is run, it generates a message about existing devices\n",
        "# CUDA toolkit installation may require Visual Studio as well\n",
        "train_tf1=tf.convert_to_tensor(train_enc['input_ids'],dtype=tf.int32)\n",
        "train_tf2=tf.convert_to_tensor(train_enc['attention_mask'],dtype=tf.int32)\n",
        "train_input={'input_word_ids':train_tf1,'input_mask':train_tf2}\n",
        "\n",
        "test_tf1=tf.convert_to_tensor(test_enc['input_ids'],dtype=tf.int32)\n",
        "test_tf2=tf.convert_to_tensor(test_enc['attention_mask'],dtype=tf.int32)\n",
        "test_input={'input_word_ids':test_tf1,'input_mask':test_tf2}\n",
        "\n",
        "print(train_enc[10])"
      ],
      "metadata": {
        "id": "yeSl1M0YOIch",
        "colab": {
          "base_uri": "https://localhost:8080/"
        },
        "outputId": "95652833-9215-4fcd-e492-d9b852927e17"
      },
      "execution_count": 10,
      "outputs": [
        {
          "output_type": "stream",
          "name": "stdout",
          "text": [
            "Encoding(num_tokens=100, attributes=[ids, type_ids, tokens, offsets, attention_mask, special_tokens_mask, overflowing])\n"
          ]
        }
      ]
    },
    {
      "cell_type": "code",
      "source": [
        "# because error\n",
        "# os.environ[\"TF_GPU_ALLOCATOR\"] = \"cuda_malloc_async\"\n",
        "\n",
        "# QUESTION - what does strategy.scope() do?\n",
        "with strategy.scope():\n",
        "    # instantiates a Keras tensor\n",
        "    input_ids = tf.keras.Input(shape = (100,), dtype = tf.int32, name = 'input_word_ids')\n",
        "    input_mask = tf.keras.Input(shape = (100,), dtype = tf.int32, name = 'input_mask')\n",
        "\n",
        "    # documentation: https://huggingface.co/transformers/v3.0.2/model_doc/auto.html#tfautomodel\n",
        "    roberta = TFAutoModel.from_pretrained('joeddav/xlm-roberta-large-xnli')\n",
        "    # at this point roberta([input_ids,input_mask]) is a tensorflow object, that contains two keras tensors\n",
        "    # QUESTION - what does this do??\n",
        "    # 1st dimension of input_ids, input_masks\n",
        "    roberta = roberta([input_ids,input_mask])[0]\n",
        "\n",
        "    # https://www.tensorflow.org/api_docs/python/tf/keras/layers/GlobalAveragePooling1D\n",
        "    # \"Global average pooling operation for temporal data\"\n",
        "    # https://stackoverflow.com/questions/54493738/keras-difference-between-averagepooling1d-layer-and-globalaveragepooling1d-laye\n",
        "    # QUESTION - is average pooling similar to max pooling for convolution networks?\n",
        "    # downsampling\n",
        "    # prevents overfitting\n",
        "    output = tf.keras.layers.GlobalAveragePooling1D()(roberta)\n",
        "    # https://www.tensorflow.org/api_docs/python/tf/keras/layers/Dense\n",
        "    # \"regular densely-connected NN layer\"\n",
        "    output = tf.keras.layers.Dense(3, activation = 'softmax')(output)\n",
        "\n",
        "    model = tf.keras.Model(inputs = [input_ids,input_mask], outputs = output)\n",
        "    model.compile(optimizer = tf.keras.optimizers.Adam(lr = 1e-5),\n",
        "                  loss = 'sparse_categorical_crossentropy',\n",
        "                  metrics = ['accuracy'])\n",
        "    model.summary()\n"
      ],
      "metadata": {
        "id": "NUSUPhz4N4Ya",
        "colab": {
          "base_uri": "https://localhost:8080/"
        },
        "outputId": "1c95fe22-ad56-4928-f721-81a9cb7b2469"
      },
      "execution_count": 11,
      "outputs": [
        {
          "output_type": "stream",
          "name": "stderr",
          "text": [
            "Some layers from the model checkpoint at joeddav/xlm-roberta-large-xnli were not used when initializing TFXLMRobertaModel: ['classifier']\n",
            "- This IS expected if you are initializing TFXLMRobertaModel from the checkpoint of a model trained on another task or with another architecture (e.g. initializing a BertForSequenceClassification model from a BertForPreTraining model).\n",
            "- This IS NOT expected if you are initializing TFXLMRobertaModel from the checkpoint of a model that you expect to be exactly identical (initializing a BertForSequenceClassification model from a BertForSequenceClassification model).\n",
            "All the layers of TFXLMRobertaModel were initialized from the model checkpoint at joeddav/xlm-roberta-large-xnli.\n",
            "If your task is similar to the task the model of the checkpoint was trained on, you can already use TFXLMRobertaModel for predictions without further training.\n"
          ]
        },
        {
          "output_type": "stream",
          "name": "stdout",
          "text": [
            "Model: \"model\"\n",
            "__________________________________________________________________________________________________\n",
            " Layer (type)                   Output Shape         Param #     Connected to                     \n",
            "==================================================================================================\n",
            " input_word_ids (InputLayer)    [(None, 100)]        0           []                               \n",
            "                                                                                                  \n",
            " input_mask (InputLayer)        [(None, 100)]        0           []                               \n",
            "                                                                                                  \n",
            " tfxlm_roberta_model (TFXLMRobe  TFBaseModelOutputWi  559890432  ['input_word_ids[0][0]',         \n",
            " rtaModel)                      thPoolingAndCrossAt               'input_mask[0][0]']             \n",
            "                                tentions(last_hidde                                               \n",
            "                                n_state=(None, 100,                                               \n",
            "                                 1024),                                                           \n",
            "                                 pooler_output=(Non                                               \n",
            "                                e, 1024),                                                         \n",
            "                                 past_key_values=No                                               \n",
            "                                ne, hidden_states=N                                               \n",
            "                                one, attentions=Non                                               \n",
            "                                e, cross_attentions                                               \n",
            "                                =None)                                                            \n",
            "                                                                                                  \n",
            " global_average_pooling1d (Glob  (None, 1024)        0           ['tfxlm_roberta_model[0][0]']    \n",
            " alAveragePooling1D)                                                                              \n",
            "                                                                                                  \n",
            " dense (Dense)                  (None, 3)            3075        ['global_average_pooling1d[0][0]'\n",
            "                                                                 ]                                \n",
            "                                                                                                  \n",
            "==================================================================================================\n",
            "Total params: 559,893,507\n",
            "Trainable params: 559,893,507\n",
            "Non-trainable params: 0\n",
            "__________________________________________________________________________________________________\n"
          ]
        },
        {
          "output_type": "stream",
          "name": "stderr",
          "text": [
            "/usr/local/lib/python3.7/dist-packages/keras/optimizer_v2/adam.py:105: UserWarning: The `lr` argument is deprecated, use `learning_rate` instead.\n",
            "  super(Adam, self).__init__(name, **kwargs)\n"
          ]
        }
      ]
    },
    {
      "cell_type": "code",
      "source": [
        "early_stop = tf.keras.callbacks.EarlyStopping(patience=4,restore_best_weights=True, verbose=1, monitor='val_accuracy')"
      ],
      "metadata": {
        "id": "KlW7uLgWYPDO"
      },
      "execution_count": 12,
      "outputs": []
    },
    {
      "cell_type": "code",
      "source": [
        "# train the model?\n",
        "# uses up space on D: for some reason\n",
        "# model.fit(train_input,train.label,validation_split = 0.2,epochs=20,batch_size=16*strategy.num_replicas_in_sync,callbacks=[early_stop],verbose=1)\n",
        "model.fit(train_input,train.label,validation_split = 0.2,epochs=10,batch_size=16*strategy.num_replicas_in_sync,verbose=1)\n",
        "\n",
        "# WARNING:tensorflow:Gradients do not exist for variables ['tfxlm_roberta_model/roberta/pooler/dense/kernel:0', 'tfxlm_roberta_model/roberta/pooler/dense/bias:0'] when minimizing the loss.\n"
      ],
      "metadata": {
        "colab": {
          "base_uri": "https://localhost:8080/"
        },
        "id": "bqYMSJFIYQGk",
        "outputId": "c6be34e5-19ba-4b05-8e4c-8a2015bd191a"
      },
      "execution_count": 13,
      "outputs": [
        {
          "output_type": "stream",
          "name": "stdout",
          "text": [
            "Epoch 1/10\n",
            "WARNING:tensorflow:Gradients do not exist for variables ['tfxlm_roberta_model/roberta/pooler/dense/kernel:0', 'tfxlm_roberta_model/roberta/pooler/dense/bias:0'] when minimizing the loss. If you're using `model.compile()`, did you forget to provide a `loss`argument?\n",
            "WARNING:tensorflow:Gradients do not exist for variables ['tfxlm_roberta_model/roberta/pooler/dense/kernel:0', 'tfxlm_roberta_model/roberta/pooler/dense/bias:0'] when minimizing the loss. If you're using `model.compile()`, did you forget to provide a `loss`argument?\n",
            "50/50 [==============================] - 85s 1s/step - loss: 0.3577 - accuracy: 0.8875 - val_loss: 0.2218 - val_accuracy: 0.9200\n",
            "Epoch 2/10\n",
            "50/50 [==============================] - 64s 1s/step - loss: 0.1062 - accuracy: 0.9725 - val_loss: 0.3023 - val_accuracy: 0.9250\n",
            "Epoch 3/10\n",
            "50/50 [==============================] - 64s 1s/step - loss: 0.0403 - accuracy: 0.9900 - val_loss: 0.3699 - val_accuracy: 0.9300\n",
            "Epoch 4/10\n",
            "50/50 [==============================] - 64s 1s/step - loss: 0.0367 - accuracy: 0.9875 - val_loss: 0.4506 - val_accuracy: 0.9050\n",
            "Epoch 5/10\n",
            "50/50 [==============================] - 64s 1s/step - loss: 0.0547 - accuracy: 0.9837 - val_loss: 0.3560 - val_accuracy: 0.9100\n",
            "Epoch 6/10\n",
            "50/50 [==============================] - 64s 1s/step - loss: 0.0199 - accuracy: 0.9925 - val_loss: 0.3725 - val_accuracy: 0.9250\n",
            "Epoch 7/10\n",
            "50/50 [==============================] - 64s 1s/step - loss: 0.0035 - accuracy: 1.0000 - val_loss: 0.4316 - val_accuracy: 0.9300\n",
            "Epoch 8/10\n",
            "50/50 [==============================] - 64s 1s/step - loss: 0.0101 - accuracy: 0.9962 - val_loss: 0.4622 - val_accuracy: 0.9300\n",
            "Epoch 9/10\n",
            "50/50 [==============================] - 64s 1s/step - loss: 0.0165 - accuracy: 0.9962 - val_loss: 0.4387 - val_accuracy: 0.9150\n",
            "Epoch 10/10\n",
            "50/50 [==============================] - 64s 1s/step - loss: 0.0242 - accuracy: 0.9925 - val_loss: 0.5472 - val_accuracy: 0.9000\n"
          ]
        },
        {
          "output_type": "execute_result",
          "data": {
            "text/plain": [
              "<keras.callbacks.History at 0x7f37f14130d0>"
            ]
          },
          "metadata": {},
          "execution_count": 13
        }
      ]
    },
    {
      "cell_type": "code",
      "source": [
        "pred=[np.argmax(i) for i in model.predict(test_input)]\n",
        "print(pd.DataFrame(pred).value_counts())\n",
        "\n",
        "pd.DataFrame({'id':test.id,\n",
        "              'prediction':pred}).to_csv('submission.csv',index=False)"
      ],
      "metadata": {
        "id": "bCNRLFYSMpC8"
      },
      "execution_count": null,
      "outputs": []
    },
    {
      "cell_type": "code",
      "source": [
        "# https://datascience.stackexchange.com/questions/42599/what-is-the-relationship-between-the-accuracy-and-the-loss-in-deep-learning"
      ],
      "metadata": {
        "id": "NcaOQe_wdRUh"
      },
      "execution_count": null,
      "outputs": []
    }
  ]
}