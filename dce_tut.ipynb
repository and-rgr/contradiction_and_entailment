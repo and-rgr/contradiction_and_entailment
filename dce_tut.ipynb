{
  "nbformat": 4,
  "nbformat_minor": 0,
  "metadata": {
    "colab": {
      "name": "dce_tut.ipynb",
      "provenance": [],
      "collapsed_sections": [],
      "include_colab_link": true
    },
    "kernelspec": {
      "name": "python3",
      "display_name": "Python 3"
    },
    "language_info": {
      "name": "python"
    },
    "accelerator": "GPU"
  },
  "cells": [
    {
      "cell_type": "markdown",
      "metadata": {
        "id": "view-in-github",
        "colab_type": "text"
      },
      "source": [
        "<a href=\"https://colab.research.google.com/github/and-rgr/contradiction_and_entailment/blob/main/dce_tut.ipynb\" target=\"_parent\"><img src=\"https://colab.research.google.com/assets/colab-badge.svg\" alt=\"Open In Colab\"/></a>"
      ]
    },
    {
      "cell_type": "code",
      "source": [
        "# from google.colab import drive\n",
        "# drive.mount('/content/drive')"
      ],
      "metadata": {
        "id": "vcBcCi0sMmyy"
      },
      "execution_count": 1,
      "outputs": []
    },
    {
      "cell_type": "code",
      "source": [
        "# must enable GPU or TPU for Google Colab\n",
        "# menu Runtime > Change Runtime Type"
      ],
      "metadata": {
        "id": "naFTpxxz6r3r"
      },
      "execution_count": 2,
      "outputs": []
    },
    {
      "cell_type": "code",
      "source": [
        "import tensorflow as tf"
      ],
      "metadata": {
        "id": "aZM40Vb92ZFR"
      },
      "execution_count": 3,
      "outputs": []
    },
    {
      "cell_type": "code",
      "source": [
        "troubleshoot = False\n",
        "\n",
        "if troubleshoot == True:\n",
        "    python_version = !python --version\n",
        "    print(python_version[0], '\\n')\n",
        "    print('tensorflow version: ', tf.version.VERSION, '\\n')\n",
        "    nvcc_version = !nvcc --version\n",
        "    for i in range(len(nvcc_version)):\n",
        "        print(nvcc_version[i])\n",
        "    print('')\n",
        "    session = tf.compat.v1.Session(config=tf.compat.v1.ConfigProto(log_device_placement=True))\n",
        "    print(session, '\\n')\n",
        "    gpu_device = tf.test.gpu_device_name()\n",
        "    print(gpu_device, '\\n')\n",
        "    nvidia_smi = !nvidia-smi\n",
        "    for row in nvidia_smi:\n",
        "        print(row)"
      ],
      "metadata": {
        "id": "-QN8i4xlkfE1"
      },
      "execution_count": 4,
      "outputs": []
    },
    {
      "cell_type": "code",
      "source": [
        "!ls"
      ],
      "metadata": {
        "id": "bJcxhQcsNKwr",
        "colab": {
          "base_uri": "https://localhost:8080/"
        },
        "outputId": "e3b72450-cab2-4237-c065-5717f2fe26bb"
      },
      "execution_count": 5,
      "outputs": [
        {
          "output_type": "stream",
          "name": "stdout",
          "text": [
            "sample_data  test.csv  train.csv\n"
          ]
        }
      ]
    },
    {
      "cell_type": "code",
      "source": [
        "!pip install transformers"
      ],
      "metadata": {
        "id": "aFoc7dHHNSWs",
        "colab": {
          "base_uri": "https://localhost:8080/"
        },
        "outputId": "5a0a7b93-f5d3-47e9-a1a8-7bf644670a17"
      },
      "execution_count": 6,
      "outputs": [
        {
          "output_type": "stream",
          "name": "stdout",
          "text": [
            "Collecting transformers\n",
            "  Downloading transformers-4.15.0-py3-none-any.whl (3.4 MB)\n",
            "\u001b[K     |████████████████████████████████| 3.4 MB 5.1 MB/s \n",
            "\u001b[?25hRequirement already satisfied: regex!=2019.12.17 in /usr/local/lib/python3.7/dist-packages (from transformers) (2019.12.20)\n",
            "Collecting sacremoses\n",
            "  Downloading sacremoses-0.0.47-py2.py3-none-any.whl (895 kB)\n",
            "\u001b[K     |████████████████████████████████| 895 kB 51.7 MB/s \n",
            "\u001b[?25hCollecting tokenizers<0.11,>=0.10.1\n",
            "  Downloading tokenizers-0.10.3-cp37-cp37m-manylinux_2_5_x86_64.manylinux1_x86_64.manylinux_2_12_x86_64.manylinux2010_x86_64.whl (3.3 MB)\n",
            "\u001b[K     |████████████████████████████████| 3.3 MB 43.5 MB/s \n",
            "\u001b[?25hRequirement already satisfied: numpy>=1.17 in /usr/local/lib/python3.7/dist-packages (from transformers) (1.19.5)\n",
            "Requirement already satisfied: tqdm>=4.27 in /usr/local/lib/python3.7/dist-packages (from transformers) (4.62.3)\n",
            "Collecting pyyaml>=5.1\n",
            "  Downloading PyYAML-6.0-cp37-cp37m-manylinux_2_5_x86_64.manylinux1_x86_64.manylinux_2_12_x86_64.manylinux2010_x86_64.whl (596 kB)\n",
            "\u001b[K     |████████████████████████████████| 596 kB 55.9 MB/s \n",
            "\u001b[?25hRequirement already satisfied: filelock in /usr/local/lib/python3.7/dist-packages (from transformers) (3.4.2)\n",
            "Requirement already satisfied: packaging>=20.0 in /usr/local/lib/python3.7/dist-packages (from transformers) (21.3)\n",
            "Requirement already satisfied: importlib-metadata in /usr/local/lib/python3.7/dist-packages (from transformers) (4.10.0)\n",
            "Requirement already satisfied: requests in /usr/local/lib/python3.7/dist-packages (from transformers) (2.23.0)\n",
            "Collecting huggingface-hub<1.0,>=0.1.0\n",
            "  Downloading huggingface_hub-0.4.0-py3-none-any.whl (67 kB)\n",
            "\u001b[K     |████████████████████████████████| 67 kB 6.2 MB/s \n",
            "\u001b[?25hRequirement already satisfied: typing-extensions>=3.7.4.3 in /usr/local/lib/python3.7/dist-packages (from huggingface-hub<1.0,>=0.1.0->transformers) (3.10.0.2)\n",
            "Requirement already satisfied: pyparsing!=3.0.5,>=2.0.2 in /usr/local/lib/python3.7/dist-packages (from packaging>=20.0->transformers) (3.0.6)\n",
            "Requirement already satisfied: zipp>=0.5 in /usr/local/lib/python3.7/dist-packages (from importlib-metadata->transformers) (3.7.0)\n",
            "Requirement already satisfied: chardet<4,>=3.0.2 in /usr/local/lib/python3.7/dist-packages (from requests->transformers) (3.0.4)\n",
            "Requirement already satisfied: idna<3,>=2.5 in /usr/local/lib/python3.7/dist-packages (from requests->transformers) (2.10)\n",
            "Requirement already satisfied: urllib3!=1.25.0,!=1.25.1,<1.26,>=1.21.1 in /usr/local/lib/python3.7/dist-packages (from requests->transformers) (1.24.3)\n",
            "Requirement already satisfied: certifi>=2017.4.17 in /usr/local/lib/python3.7/dist-packages (from requests->transformers) (2021.10.8)\n",
            "Requirement already satisfied: joblib in /usr/local/lib/python3.7/dist-packages (from sacremoses->transformers) (1.1.0)\n",
            "Requirement already satisfied: click in /usr/local/lib/python3.7/dist-packages (from sacremoses->transformers) (7.1.2)\n",
            "Requirement already satisfied: six in /usr/local/lib/python3.7/dist-packages (from sacremoses->transformers) (1.15.0)\n",
            "Installing collected packages: pyyaml, tokenizers, sacremoses, huggingface-hub, transformers\n",
            "  Attempting uninstall: pyyaml\n",
            "    Found existing installation: PyYAML 3.13\n",
            "    Uninstalling PyYAML-3.13:\n",
            "      Successfully uninstalled PyYAML-3.13\n",
            "Successfully installed huggingface-hub-0.4.0 pyyaml-6.0 sacremoses-0.0.47 tokenizers-0.10.3 transformers-4.15.0\n"
          ]
        }
      ]
    },
    {
      "cell_type": "code",
      "source": [
        "# !pip install sentencepiece"
      ],
      "metadata": {
        "id": "d-Yy2TAwNw9i"
      },
      "execution_count": 7,
      "outputs": []
    },
    {
      "cell_type": "code",
      "source": [
        "import os\n",
        "import pandas as pd\n",
        "import numpy as np\n",
        "import matplotlib.pyplot as plt\n",
        "\n",
        "# imported above\n",
        "# import tensorflow as tf\n",
        "\n",
        "# requires the sentencepiece package (unsupervised text tokenizer and detokenizer)\n",
        "# from transformers import TFAutoModel,AutoTokenizer\n",
        "\n",
        "# used for the BertTokenizer\n",
        "from transformers import BertTokenizer, TFBertModel\n",
        "\n",
        "## see the entire dataframe width in the console\n",
        "pd.set_option('display.expand_frame_repr', False)\n",
        "\n",
        "## to silence warning - what?\n",
        "os.environ[\"WANDB_API_KEY\"] = \"0\"\n",
        "\n",
        "# set up the TPU\n",
        "try:\n",
        "    tpu = tf.distribute.cluster_resolver.TPUClusterResolver()\n",
        "    tf.config.experimental_connect_to_cluster(tpu)\n",
        "    tf.tpu.experimental.initialize_tpu_system(tpu)\n",
        "    strategy = tf.distribute.experimental.TPUStrategy(tpu)\n",
        "except ValueError:\n",
        "    strategy = tf.distribute.get_strategy() # for CPU and single GPU\n",
        "\n",
        "print('Number of replicas:', strategy.num_replicas_in_sync)\n",
        "\n",
        "# see available files\n",
        "for dirname, _, filenames in os.walk('.'):\n",
        "    for filename in filenames:\n",
        "        print(os.path.join(dirname, filename))"
      ],
      "metadata": {
        "id": "jw_OR806N01o",
        "colab": {
          "base_uri": "https://localhost:8080/"
        },
        "outputId": "79a71737-6ed2-4b0a-be3a-18e4d387a340"
      },
      "execution_count": 8,
      "outputs": [
        {
          "output_type": "stream",
          "name": "stdout",
          "text": [
            "Number of replicas: 1\n",
            "./train.csv\n",
            "./test.csv\n",
            "./.config/.last_update_check.json\n",
            "./.config/gce\n",
            "./.config/.last_survey_prompt.yaml\n",
            "./.config/active_config\n",
            "./.config/config_sentinel\n",
            "./.config/.last_opt_in_prompt.yaml\n",
            "./.config/logs/2022.01.07/14.32.37.114755.log\n",
            "./.config/logs/2022.01.07/14.33.41.864886.log\n",
            "./.config/logs/2022.01.07/14.33.42.565580.log\n",
            "./.config/logs/2022.01.07/14.33.15.504888.log\n",
            "./.config/logs/2022.01.07/14.33.22.232212.log\n",
            "./.config/logs/2022.01.07/14.32.57.118850.log\n",
            "./.config/configurations/config_default\n",
            "./sample_data/README.md\n",
            "./sample_data/anscombe.json\n",
            "./sample_data/mnist_test.csv\n",
            "./sample_data/california_housing_test.csv\n",
            "./sample_data/california_housing_train.csv\n",
            "./sample_data/mnist_train_small.csv\n"
          ]
        }
      ]
    },
    {
      "cell_type": "code",
      "execution_count": 9,
      "metadata": {
        "id": "-_Whld4tMGdV",
        "colab": {
          "base_uri": "https://localhost:8080/",
          "height": 1000
        },
        "outputId": "82ef4241-5e7c-40fa-c28e-a7ed0296dc43"
      },
      "outputs": [
        {
          "output_type": "stream",
          "name": "stdout",
          "text": [
            "(500, 6)\n",
            "(200, 5)\n",
            "             id                                            premise                                         hypothesis lang_abv language  label\n",
            "490  a7f4859d7b  Bunun için baktım, Ramona'nın nerede olduğunu ...                         Ben Ramona'yı önemsemedim.       tr  Turkish      2\n",
            "491  4fc0edff09  As a result of the comments received, AMS chan...  The proposed rule was changed after AMS saw th...       en  English      0\n",
            "492  a91386062c  Each one planting itself in the sides of Stark...                        Stark's neck was hit twice.       en  English      0\n",
            "493  2238579738           We always knew it was an outside chance.  We were never assured of it happening in time ...       en  English      0\n",
            "494  be4a343e63  there and they uh they in fact they had this w...  The canal is smaller than people expect it to be        en  English      0\n",
            "495  8ea8763287  i also use my PC to emulate a mainframe termin...  My PC is used as an emulator for a mainframe t...       en  English      0\n",
            "496  8aeb8b1a8d  Eighty percent of pagers in the United States ...  Pagers in the United States were unaffected by...       en  English      2\n",
            "497  536ab63499  Because GAO's primary function is to support t...           Their main focus to to support Congress.       en  English      0\n",
            "498  ad3b36fe97  Their rulers introduced Buddhist and Hindu cul...  Buddhist and Hindu culture and elaborate court...       en  English      0\n",
            "499  660f3301ca  Local boy Gates wisely built his 45,000-square...  Gates built his castle in the Seattle are beca...       en  English      1\n",
            "             id                                            premise                                         hypothesis lang_abv language\n",
            "190  965aead0f9  جان ہارگن کے رچرڈ ڈاکنز کی کتاب پہاڑ پر چڑھنا ...  رچرڈ ڈیوکنز نے کلبنگ ماؤنٹ ناممکن (اسرار آف لا...       ur     Urdu\n",
            "191  72125071d3            It's come back? cried Julius excitedly.       News of it being gone left them devastated.        en  English\n",
            "192  65da1f45bb  اس ہائبریڈ /مخلوط نظام میں  CEO  ایک کارپوریٹ ...                          GAO آن لائن موجود نہیں ہے       ur     Urdu\n",
            "193  6ad61c560b  Perhaps all we can say of great acting is that...  An actor is judged solely on quality of perfor...       en  English\n",
            "194  d947ed7814  Wow vielleicht sollte ich es mir im Kino ansch...        Ich will diesen Film überhaupt nicht sehen!       de   German\n",
            "195  d3226effb4                             AC Green's pretty good                      AC Green's a horrible player.       en  English\n",
            "196  9367bcb2e8  Such experience better enables the CIOs to wor...  They are able to have the same vision because ...       en  English\n",
            "197  b036a02689      بدأت سونيا الطفلة في محاكاة نوبات غضب ابنتها.                                     إن سونيا طفلة.       ar   Arabic\n",
            "198  fd61e08443  One of the city's attractions is the shopping ...  The best place to shop is the shopping centre ...       en  English\n",
            "199  95d51b25de  Les métaphores animales originales sont presqu...  Les métaphores animales ont disparu à cause de...       fr   French\n",
            "These are issues that we wrestle with in practice groups of law firms, she said.  \n",
            " Practice groups are not permitted to work on these issues. \n",
            " 2\n"
          ]
        },
        {
          "output_type": "display_data",
          "data": {
            "image/png": "[encoded data removed]",
            "text/plain": [
              "<Figure size 720x720 with 1 Axes>"
            ]
          },
          "metadata": {}
        },
        {
          "output_type": "stream",
          "name": "stdout",
          "text": [
            "0    185\n",
            "1    165\n",
            "2    150\n",
            "Name: label, dtype: int64\n"
          ]
        }
      ],
      "source": [
        "# load data\n",
        "train=pd.read_csv('train.csv')\n",
        "test=pd.read_csv('test.csv')\n",
        "\n",
        "# reduce data - optional\n",
        "train = train.iloc[:500]\n",
        "test = test.iloc[:200]\n",
        "\n",
        "\n",
        "# inspect data\n",
        "print(train.shape)\n",
        "print(test.shape)\n",
        "\n",
        "print(train.tail(10))\n",
        "print(test.tail(10))\n",
        "\n",
        "print(train.premise.values[1], '\\n', train.hypothesis.values[1], '\\n', train.label.values[1])\n",
        "\n",
        "labels, frequencies = np.unique(train.language.values, return_counts = True)\n",
        "\n",
        "plt.figure(figsize = (10,10))\n",
        "plt.pie(frequencies,labels = labels, autopct = '%1.1f%%')\n",
        "plt.show()\n",
        "\n",
        "print(train.label.value_counts())"
      ]
    },
    {
      "cell_type": "code",
      "source": [
        "# Prepare Data for Input\n",
        "\n",
        "model_name = 'bert-base-multilingual-cased'\n",
        "tokenizer = BertTokenizer.from_pretrained(model_name)\n",
        "\n",
        "# BERT uses three kind of input data- input word IDs, input masks, and input type IDs.\n",
        "# These allow the model to know that the premise and hypothesis are distinct sentences, and to ignore any padding from the tokenizer."
      ],
      "metadata": {
        "id": "yeSl1M0YOIch"
      },
      "execution_count": 17,
      "outputs": []
    },
    {
      "cell_type": "code",
      "source": [
        "# tokenization example\n",
        "\n",
        "def encode_sentence(s):\n",
        "   tokens = list(tokenizer.tokenize(s))\n",
        "   tokens.append('[SEP]')\n",
        "   return tokenizer.convert_tokens_to_ids(tokens)\n",
        "   \n",
        "encode_sentence(\"I love machine learning\")"
      ],
      "metadata": {
        "colab": {
          "base_uri": "https://localhost:8080/"
        },
        "id": "DH6LssrpAsds",
        "outputId": "75f0d38e-8639-41e8-8da0-fa95a9db7705"
      },
      "execution_count": 16,
      "outputs": [
        {
          "output_type": "execute_result",
          "data": {
            "text/plain": [
              "[146, 16138, 21432, 26901, 102]"
            ]
          },
          "metadata": {},
          "execution_count": 16
        }
      ]
    },
    {
      "cell_type": "code",
      "source": [
        "# we add a [CLS] token to mark the beginning of inputs\n",
        "# we add a [SEP] toekn to mark the separation between premise and hypothesis\n",
        "# we also pad all inputs to be the same size\n",
        "\n",
        "def bert_encode(hypotheses, premises, tokenizer):\n",
        "    \n",
        "    num_examples = len(hypotheses)\n",
        "  \n",
        "    # Constructs a constant RaggedTensor from a nested Python list\n",
        "    sentence1 = tf.ragged.constant([encode_sentence(s) for s in np.array(hypotheses)])\n",
        "    sentence2 = tf.ragged.constant([encode_sentence(s) for s in np.array(premises)])\n",
        "\n",
        "    cls = [tokenizer.convert_tokens_to_ids(['[CLS]'])]*sentence1.shape[0]\n",
        "    input_word_ids = tf.concat([cls, sentence1, sentence2], axis=-1)\n",
        "\n",
        "    input_mask = tf.ones_like(input_word_ids).to_tensor()\n",
        "\n",
        "    type_cls = tf.zeros_like(cls)\n",
        "    type_s1 = tf.zeros_like(sentence1)\n",
        "    type_s2 = tf.ones_like(sentence2)\n",
        "    input_type_ids = tf.concat([type_cls, type_s1, type_s2], axis=-1).to_tensor()\n",
        "\n",
        "    inputs = {\n",
        "        'input_word_ids': input_word_ids.to_tensor(),\n",
        "        'input_mask': input_mask,\n",
        "        'input_type_ids': input_type_ids}\n",
        "\n",
        "    return inputs"
      ],
      "metadata": {
        "id": "SfBza-Y7BBLC"
      },
      "execution_count": 13,
      "outputs": []
    },
    {
      "cell_type": "code",
      "source": [
        "train_input = bert_encode(train.premise.values, train.hypothesis.values, tokenizer)"
      ],
      "metadata": {
        "id": "YVluzvd3BSFj"
      },
      "execution_count": 14,
      "outputs": []
    },
    {
      "cell_type": "code",
      "source": [
        "# Create Model\n",
        "\n",
        "# we incorporate the BERT transformer into a Keras Functional Model\n",
        "\n",
        "def build_model(max_len = 50):\n",
        "    bert_encoder = TFBertModel.from_pretrained(model_name)\n",
        "    input_word_ids = tf.keras.Input(shape=(max_len,), dtype=tf.int32, name=\"input_word_ids\")\n",
        "    input_mask = tf.keras.Input(shape=(max_len,), dtype=tf.int32, name=\"input_mask\")\n",
        "    input_type_ids = tf.keras.Input(shape=(max_len,), dtype=tf.int32, name=\"input_type_ids\")\n",
        "    \n",
        "    embedding = bert_encoder([input_word_ids, input_mask, input_type_ids])[0]\n",
        "    output = tf.keras.layers.Dense(3, activation='softmax')(embedding[:,0,:])\n",
        "    \n",
        "    model = tf.keras.Model(inputs=[input_word_ids, input_mask, input_type_ids], outputs=output)\n",
        "    model.compile(tf.keras.optimizers.Adam(lr=1e-5),\n",
        "                  loss='sparse_categorical_crossentropy',\n",
        "                  metrics=['accuracy'])\n",
        "    \n",
        "    return model"
      ],
      "metadata": {
        "id": "QuINwhKoB5O5"
      },
      "execution_count": 19,
      "outputs": []
    },
    {
      "cell_type": "code",
      "source": [
        "with strategy.scope():\n",
        "    model = build_model()\n",
        "    model.summary()"
      ],
      "metadata": {
        "id": "Mb96dYpjEe-7"
      },
      "execution_count": null,
      "outputs": []
    },
    {
      "cell_type": "code",
      "source": [
        "model.fit(train_input, train.label.values, epochs = 2, verbose = 1, batch_size = 64, validation_split = 0.2)"
      ],
      "metadata": {
        "id": "lnTNnrg_Ei9Z"
      },
      "execution_count": null,
      "outputs": []
    },
    {
      "cell_type": "code",
      "source": [
        "# Generate Predictions\n",
        "\n",
        "predictions = [np.argmax(i) for i in model.predict(test_input)]\n",
        "\n",
        "# The submission file will consist of the ID column and a prediction column.\n",
        "# We can just copy the ID column from the test file, make it a dataframe, and then add our prediction column.\n",
        "submission = test.id.copy().to_frame()\n",
        "submission['prediction'] = predictions\n",
        "\n",
        "submission.to_csv(\"submission.csv\", index = False)"
      ],
      "metadata": {
        "id": "xsnanhrAEl6l"
      },
      "execution_count": null,
      "outputs": []
    }
  ]
}