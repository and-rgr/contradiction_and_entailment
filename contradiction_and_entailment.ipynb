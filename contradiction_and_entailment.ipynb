{
  "cells": [
    {
      "cell_type": "markdown",
      "metadata": {
        "id": "view-in-github",
        "colab_type": "text"
      },
      "source": [
        "<a href=\"https://colab.research.google.com/github/and-rgr/contradiction_and_entailment/blob/main/contradiction_and_entailment.ipynb\" target=\"_parent\"><img src=\"https://colab.research.google.com/assets/colab-badge.svg\" alt=\"Open In Colab\"/></a>"
      ]
    },
    {
      "cell_type": "code",
      "execution_count": 6,
      "metadata": {
        "id": "JMAlvZcG7yuD"
      },
      "outputs": [],
      "source": [
        "# Based on the following Kaggle notebook:\n",
        "# https://github.com/sukanyabag/Detecting-Contradictions-and-Entailment-in-Multilingual-Text/tree/main/Detecting%20Contradictions%20in%20Multilingual%20Text"
      ]
    },
    {
      "cell_type": "code",
      "source": [
        "def history_log(filename):\n",
        "    accuracy = history.history['accuracy']\n",
        "    loss = history.history['loss']\n",
        "    val_accuracy = history.history['val_accuracy']\n",
        "    val_loss = history.history['val_loss']\n",
        "\n",
        "    my_list = ['loss, accuracy, val_loss, val_accuracy']\n",
        "    for i in range(len(accuracy)):\n",
        "        line = str(round(loss[i],4)) + \", \" + str(round(accuracy[i],4)) + \", \" + str(round(val_loss[i],4)) + \", \" + str(round(val_accuracy[i],4))\n",
        "        my_list.append(line)\n",
        "\n",
        "    with open(filename + \".csv\", 'w') as f:\n",
        "        for item in my_list:\n",
        "            f.write(\"%s\\n\" % item)"
      ],
      "metadata": {
        "id": "S4ci2b1LUlwP"
      },
      "execution_count": 7,
      "outputs": []
    },
    {
      "cell_type": "code",
      "source": [
        "def hyperparameter_log(filename):\n",
        "    with open(filename + \".txt\", 'w') as f:\n",
        "        f.write(\"model_name = \" + str(model_name) + \"\\n\")   \n",
        "        f.write(\"tokenizer_length = \" + str(tokenizer_length) + \"\\n\")       \n",
        "        f.write(\"learning_rate = \" + str(learning_rate) + \"\\n\")\n",
        "        f.write(\"batch_factor = \" + str(batch_factor) + \"\\n\")\n",
        "        f.write(\"validation_split = \" + str(validation_split) + \"\\n\")\n",
        "        f.write(\"kernel_initializer = \" + str(kernel_initializer) + \"\\n\")\n",
        "        f.write(\"epochs = \" + str(epochs) + \"\\n\")\n",
        "        f.write(\"patience = \" + str(patience) + \"\\n\")\n",
        "        f.write(\"l1 regularization = \" + str(l1) + \"\\n\")\n",
        "        f.write(\"l2 regularization = \" + str(l2) + \"\\n\")"
      ],
      "metadata": {
        "id": "eLuy2s1URjdR"
      },
      "execution_count": 8,
      "outputs": []
    },
    {
      "cell_type": "code",
      "source": [
        "def gpu_info():\n",
        "    gpu_info = !nvidia-smi\n",
        "    gpu_info = '\\n'.join(gpu_info)\n",
        "    if gpu_info.find('failed') >= 0:\n",
        "        print('Not connected to a GPU')\n",
        "    else:\n",
        "        print(gpu_info)"
      ],
      "metadata": {
        "id": "HoYD5ESzhuYo"
      },
      "execution_count": 9,
      "outputs": []
    },
    {
      "cell_type": "code",
      "source": [
        "gpu_info()"
      ],
      "metadata": {
        "colab": {
          "base_uri": "https://localhost:8080/"
        },
        "id": "4d8XpyZH3U4x",
        "outputId": "f5ce9fab-98f6-4995-d522-3c4f3a39840d"
      },
      "execution_count": 10,
      "outputs": [
        {
          "output_type": "stream",
          "name": "stdout",
          "text": [
            "Tue Mar 29 21:48:45 2022       \n",
            "+-----------------------------------------------------------------------------+\n",
            "| NVIDIA-SMI 460.32.03    Driver Version: 460.32.03    CUDA Version: 11.2     |\n",
            "|-------------------------------+----------------------+----------------------+\n",
            "| GPU  Name        Persistence-M| Bus-Id        Disp.A | Volatile Uncorr. ECC |\n",
            "| Fan  Temp  Perf  Pwr:Usage/Cap|         Memory-Usage | GPU-Util  Compute M. |\n",
            "|                               |                      |               MIG M. |\n",
            "|===============================+======================+======================|\n",
            "|   0  Tesla P100-PCIE...  Off  | 00000000:00:04.0 Off |                    0 |\n",
            "| N/A   37C    P0    28W / 250W |      0MiB / 16280MiB |      0%      Default |\n",
            "|                               |                      |                  N/A |\n",
            "+-------------------------------+----------------------+----------------------+\n",
            "                                                                               \n",
            "+-----------------------------------------------------------------------------+\n",
            "| Processes:                                                                  |\n",
            "|  GPU   GI   CI        PID   Type   Process name                  GPU Memory |\n",
            "|        ID   ID                                                   Usage      |\n",
            "|=============================================================================|\n",
            "|  No running processes found                                                 |\n",
            "+-----------------------------------------------------------------------------+\n"
          ]
        }
      ]
    },
    {
      "cell_type": "code",
      "execution_count": 11,
      "metadata": {
        "colab": {
          "base_uri": "https://localhost:8080/"
        },
        "id": "VkuI4rb8MyLD",
        "outputId": "6db9d057-b124-474f-d80f-907ee86b39de"
      },
      "outputs": [
        {
          "output_type": "stream",
          "name": "stdout",
          "text": [
            "Collecting transformers\n",
            "  Downloading transformers-4.17.0-py3-none-any.whl (3.8 MB)\n",
            "\u001b[K     |████████████████████████████████| 3.8 MB 8.1 MB/s \n",
            "\u001b[?25hRequirement already satisfied: importlib-metadata in /usr/local/lib/python3.7/dist-packages (from transformers) (4.11.3)\n",
            "Collecting huggingface-hub<1.0,>=0.1.0\n",
            "  Downloading huggingface_hub-0.4.0-py3-none-any.whl (67 kB)\n",
            "\u001b[K     |████████████████████████████████| 67 kB 6.0 MB/s \n",
            "\u001b[?25hRequirement already satisfied: packaging>=20.0 in /usr/local/lib/python3.7/dist-packages (from transformers) (21.3)\n",
            "Requirement already satisfied: regex!=2019.12.17 in /usr/local/lib/python3.7/dist-packages (from transformers) (2019.12.20)\n",
            "Collecting sacremoses\n",
            "  Downloading sacremoses-0.0.49-py3-none-any.whl (895 kB)\n",
            "\u001b[K     |████████████████████████████████| 895 kB 54.8 MB/s \n",
            "\u001b[?25hRequirement already satisfied: filelock in /usr/local/lib/python3.7/dist-packages (from transformers) (3.6.0)\n",
            "Requirement already satisfied: tqdm>=4.27 in /usr/local/lib/python3.7/dist-packages (from transformers) (4.63.0)\n",
            "Requirement already satisfied: numpy>=1.17 in /usr/local/lib/python3.7/dist-packages (from transformers) (1.21.5)\n",
            "Collecting pyyaml>=5.1\n",
            "  Downloading PyYAML-6.0-cp37-cp37m-manylinux_2_5_x86_64.manylinux1_x86_64.manylinux_2_12_x86_64.manylinux2010_x86_64.whl (596 kB)\n",
            "\u001b[K     |████████████████████████████████| 596 kB 57.1 MB/s \n",
            "\u001b[?25hRequirement already satisfied: requests in /usr/local/lib/python3.7/dist-packages (from transformers) (2.23.0)\n",
            "Collecting tokenizers!=0.11.3,>=0.11.1\n",
            "  Downloading tokenizers-0.11.6-cp37-cp37m-manylinux_2_12_x86_64.manylinux2010_x86_64.whl (6.5 MB)\n",
            "\u001b[K     |████████████████████████████████| 6.5 MB 52.8 MB/s \n",
            "\u001b[?25hRequirement already satisfied: typing-extensions>=3.7.4.3 in /usr/local/lib/python3.7/dist-packages (from huggingface-hub<1.0,>=0.1.0->transformers) (3.10.0.2)\n",
            "Requirement already satisfied: pyparsing!=3.0.5,>=2.0.2 in /usr/local/lib/python3.7/dist-packages (from packaging>=20.0->transformers) (3.0.7)\n",
            "Requirement already satisfied: zipp>=0.5 in /usr/local/lib/python3.7/dist-packages (from importlib-metadata->transformers) (3.7.0)\n",
            "Requirement already satisfied: certifi>=2017.4.17 in /usr/local/lib/python3.7/dist-packages (from requests->transformers) (2021.10.8)\n",
            "Requirement already satisfied: idna<3,>=2.5 in /usr/local/lib/python3.7/dist-packages (from requests->transformers) (2.10)\n",
            "Requirement already satisfied: chardet<4,>=3.0.2 in /usr/local/lib/python3.7/dist-packages (from requests->transformers) (3.0.4)\n",
            "Requirement already satisfied: urllib3!=1.25.0,!=1.25.1,<1.26,>=1.21.1 in /usr/local/lib/python3.7/dist-packages (from requests->transformers) (1.24.3)\n",
            "Requirement already satisfied: six in /usr/local/lib/python3.7/dist-packages (from sacremoses->transformers) (1.15.0)\n",
            "Requirement already satisfied: click in /usr/local/lib/python3.7/dist-packages (from sacremoses->transformers) (7.1.2)\n",
            "Requirement already satisfied: joblib in /usr/local/lib/python3.7/dist-packages (from sacremoses->transformers) (1.1.0)\n",
            "Installing collected packages: pyyaml, tokenizers, sacremoses, huggingface-hub, transformers\n",
            "  Attempting uninstall: pyyaml\n",
            "    Found existing installation: PyYAML 3.13\n",
            "    Uninstalling PyYAML-3.13:\n",
            "      Successfully uninstalled PyYAML-3.13\n",
            "Successfully installed huggingface-hub-0.4.0 pyyaml-6.0 sacremoses-0.0.49 tokenizers-0.11.6 transformers-4.17.0\n"
          ]
        }
      ],
      "source": [
        "!pip install transformers"
      ]
    },
    {
      "cell_type": "code",
      "source": [
        "!pip install sentencepiece\n",
        "import sentencepiece"
      ],
      "metadata": {
        "id": "7rAFCjY0c02x",
        "colab": {
          "base_uri": "https://localhost:8080/"
        },
        "outputId": "3532d61d-eb8e-46bd-85d9-ac6258fa092f"
      },
      "execution_count": 12,
      "outputs": [
        {
          "output_type": "stream",
          "name": "stdout",
          "text": [
            "Collecting sentencepiece\n",
            "  Downloading sentencepiece-0.1.96-cp37-cp37m-manylinux_2_17_x86_64.manylinux2014_x86_64.whl (1.2 MB)\n",
            "\u001b[?25l\r\u001b[K     |▎                               | 10 kB 34.3 MB/s eta 0:00:01\r\u001b[K     |▌                               | 20 kB 23.2 MB/s eta 0:00:01\r\u001b[K     |▉                               | 30 kB 17.3 MB/s eta 0:00:01\r\u001b[K     |█                               | 40 kB 15.2 MB/s eta 0:00:01\r\u001b[K     |█▍                              | 51 kB 6.5 MB/s eta 0:00:01\r\u001b[K     |█▋                              | 61 kB 7.7 MB/s eta 0:00:01\r\u001b[K     |██                              | 71 kB 8.2 MB/s eta 0:00:01\r\u001b[K     |██▏                             | 81 kB 8.5 MB/s eta 0:00:01\r\u001b[K     |██▍                             | 92 kB 9.4 MB/s eta 0:00:01\r\u001b[K     |██▊                             | 102 kB 7.9 MB/s eta 0:00:01\r\u001b[K     |███                             | 112 kB 7.9 MB/s eta 0:00:01\r\u001b[K     |███▎                            | 122 kB 7.9 MB/s eta 0:00:01\r\u001b[K     |███▌                            | 133 kB 7.9 MB/s eta 0:00:01\r\u001b[K     |███▉                            | 143 kB 7.9 MB/s eta 0:00:01\r\u001b[K     |████                            | 153 kB 7.9 MB/s eta 0:00:01\r\u001b[K     |████▎                           | 163 kB 7.9 MB/s eta 0:00:01\r\u001b[K     |████▋                           | 174 kB 7.9 MB/s eta 0:00:01\r\u001b[K     |████▉                           | 184 kB 7.9 MB/s eta 0:00:01\r\u001b[K     |█████▏                          | 194 kB 7.9 MB/s eta 0:00:01\r\u001b[K     |█████▍                          | 204 kB 7.9 MB/s eta 0:00:01\r\u001b[K     |█████▊                          | 215 kB 7.9 MB/s eta 0:00:01\r\u001b[K     |██████                          | 225 kB 7.9 MB/s eta 0:00:01\r\u001b[K     |██████▏                         | 235 kB 7.9 MB/s eta 0:00:01\r\u001b[K     |██████▌                         | 245 kB 7.9 MB/s eta 0:00:01\r\u001b[K     |██████▊                         | 256 kB 7.9 MB/s eta 0:00:01\r\u001b[K     |███████                         | 266 kB 7.9 MB/s eta 0:00:01\r\u001b[K     |███████▎                        | 276 kB 7.9 MB/s eta 0:00:01\r\u001b[K     |███████▋                        | 286 kB 7.9 MB/s eta 0:00:01\r\u001b[K     |███████▉                        | 296 kB 7.9 MB/s eta 0:00:01\r\u001b[K     |████████                        | 307 kB 7.9 MB/s eta 0:00:01\r\u001b[K     |████████▍                       | 317 kB 7.9 MB/s eta 0:00:01\r\u001b[K     |████████▋                       | 327 kB 7.9 MB/s eta 0:00:01\r\u001b[K     |█████████                       | 337 kB 7.9 MB/s eta 0:00:01\r\u001b[K     |█████████▏                      | 348 kB 7.9 MB/s eta 0:00:01\r\u001b[K     |█████████▌                      | 358 kB 7.9 MB/s eta 0:00:01\r\u001b[K     |█████████▊                      | 368 kB 7.9 MB/s eta 0:00:01\r\u001b[K     |██████████                      | 378 kB 7.9 MB/s eta 0:00:01\r\u001b[K     |██████████▎                     | 389 kB 7.9 MB/s eta 0:00:01\r\u001b[K     |██████████▌                     | 399 kB 7.9 MB/s eta 0:00:01\r\u001b[K     |██████████▉                     | 409 kB 7.9 MB/s eta 0:00:01\r\u001b[K     |███████████                     | 419 kB 7.9 MB/s eta 0:00:01\r\u001b[K     |███████████▍                    | 430 kB 7.9 MB/s eta 0:00:01\r\u001b[K     |███████████▋                    | 440 kB 7.9 MB/s eta 0:00:01\r\u001b[K     |███████████▉                    | 450 kB 7.9 MB/s eta 0:00:01\r\u001b[K     |████████████▏                   | 460 kB 7.9 MB/s eta 0:00:01\r\u001b[K     |████████████▍                   | 471 kB 7.9 MB/s eta 0:00:01\r\u001b[K     |████████████▊                   | 481 kB 7.9 MB/s eta 0:00:01\r\u001b[K     |█████████████                   | 491 kB 7.9 MB/s eta 0:00:01\r\u001b[K     |█████████████▎                  | 501 kB 7.9 MB/s eta 0:00:01\r\u001b[K     |█████████████▌                  | 512 kB 7.9 MB/s eta 0:00:01\r\u001b[K     |█████████████▊                  | 522 kB 7.9 MB/s eta 0:00:01\r\u001b[K     |██████████████                  | 532 kB 7.9 MB/s eta 0:00:01\r\u001b[K     |██████████████▎                 | 542 kB 7.9 MB/s eta 0:00:01\r\u001b[K     |██████████████▋                 | 552 kB 7.9 MB/s eta 0:00:01\r\u001b[K     |██████████████▉                 | 563 kB 7.9 MB/s eta 0:00:01\r\u001b[K     |███████████████▏                | 573 kB 7.9 MB/s eta 0:00:01\r\u001b[K     |███████████████▍                | 583 kB 7.9 MB/s eta 0:00:01\r\u001b[K     |███████████████▋                | 593 kB 7.9 MB/s eta 0:00:01\r\u001b[K     |████████████████                | 604 kB 7.9 MB/s eta 0:00:01\r\u001b[K     |████████████████▏               | 614 kB 7.9 MB/s eta 0:00:01\r\u001b[K     |████████████████▌               | 624 kB 7.9 MB/s eta 0:00:01\r\u001b[K     |████████████████▊               | 634 kB 7.9 MB/s eta 0:00:01\r\u001b[K     |█████████████████               | 645 kB 7.9 MB/s eta 0:00:01\r\u001b[K     |█████████████████▎              | 655 kB 7.9 MB/s eta 0:00:01\r\u001b[K     |█████████████████▌              | 665 kB 7.9 MB/s eta 0:00:01\r\u001b[K     |█████████████████▉              | 675 kB 7.9 MB/s eta 0:00:01\r\u001b[K     |██████████████████              | 686 kB 7.9 MB/s eta 0:00:01\r\u001b[K     |██████████████████▍             | 696 kB 7.9 MB/s eta 0:00:01\r\u001b[K     |██████████████████▋             | 706 kB 7.9 MB/s eta 0:00:01\r\u001b[K     |███████████████████             | 716 kB 7.9 MB/s eta 0:00:01\r\u001b[K     |███████████████████▏            | 727 kB 7.9 MB/s eta 0:00:01\r\u001b[K     |███████████████████▍            | 737 kB 7.9 MB/s eta 0:00:01\r\u001b[K     |███████████████████▊            | 747 kB 7.9 MB/s eta 0:00:01\r\u001b[K     |████████████████████            | 757 kB 7.9 MB/s eta 0:00:01\r\u001b[K     |████████████████████▎           | 768 kB 7.9 MB/s eta 0:00:01\r\u001b[K     |████████████████████▌           | 778 kB 7.9 MB/s eta 0:00:01\r\u001b[K     |████████████████████▉           | 788 kB 7.9 MB/s eta 0:00:01\r\u001b[K     |█████████████████████           | 798 kB 7.9 MB/s eta 0:00:01\r\u001b[K     |█████████████████████▎          | 808 kB 7.9 MB/s eta 0:00:01\r\u001b[K     |█████████████████████▋          | 819 kB 7.9 MB/s eta 0:00:01\r\u001b[K     |█████████████████████▉          | 829 kB 7.9 MB/s eta 0:00:01\r\u001b[K     |██████████████████████▏         | 839 kB 7.9 MB/s eta 0:00:01\r\u001b[K     |██████████████████████▍         | 849 kB 7.9 MB/s eta 0:00:01\r\u001b[K     |██████████████████████▊         | 860 kB 7.9 MB/s eta 0:00:01\r\u001b[K     |███████████████████████         | 870 kB 7.9 MB/s eta 0:00:01\r\u001b[K     |███████████████████████▏        | 880 kB 7.9 MB/s eta 0:00:01\r\u001b[K     |███████████████████████▌        | 890 kB 7.9 MB/s eta 0:00:01\r\u001b[K     |███████████████████████▊        | 901 kB 7.9 MB/s eta 0:00:01\r\u001b[K     |████████████████████████        | 911 kB 7.9 MB/s eta 0:00:01\r\u001b[K     |████████████████████████▎       | 921 kB 7.9 MB/s eta 0:00:01\r\u001b[K     |████████████████████████▋       | 931 kB 7.9 MB/s eta 0:00:01\r\u001b[K     |████████████████████████▉       | 942 kB 7.9 MB/s eta 0:00:01\r\u001b[K     |█████████████████████████       | 952 kB 7.9 MB/s eta 0:00:01\r\u001b[K     |█████████████████████████▍      | 962 kB 7.9 MB/s eta 0:00:01\r\u001b[K     |█████████████████████████▋      | 972 kB 7.9 MB/s eta 0:00:01\r\u001b[K     |██████████████████████████      | 983 kB 7.9 MB/s eta 0:00:01\r\u001b[K     |██████████████████████████▏     | 993 kB 7.9 MB/s eta 0:00:01\r\u001b[K     |██████████████████████████▌     | 1.0 MB 7.9 MB/s eta 0:00:01\r\u001b[K     |██████████████████████████▊     | 1.0 MB 7.9 MB/s eta 0:00:01\r\u001b[K     |███████████████████████████     | 1.0 MB 7.9 MB/s eta 0:00:01\r\u001b[K     |███████████████████████████▎    | 1.0 MB 7.9 MB/s eta 0:00:01\r\u001b[K     |███████████████████████████▌    | 1.0 MB 7.9 MB/s eta 0:00:01\r\u001b[K     |███████████████████████████▉    | 1.1 MB 7.9 MB/s eta 0:00:01\r\u001b[K     |████████████████████████████    | 1.1 MB 7.9 MB/s eta 0:00:01\r\u001b[K     |████████████████████████████▍   | 1.1 MB 7.9 MB/s eta 0:00:01\r\u001b[K     |████████████████████████████▋   | 1.1 MB 7.9 MB/s eta 0:00:01\r\u001b[K     |████████████████████████████▉   | 1.1 MB 7.9 MB/s eta 0:00:01\r\u001b[K     |█████████████████████████████▏  | 1.1 MB 7.9 MB/s eta 0:00:01\r\u001b[K     |█████████████████████████████▍  | 1.1 MB 7.9 MB/s eta 0:00:01\r\u001b[K     |█████████████████████████████▊  | 1.1 MB 7.9 MB/s eta 0:00:01\r\u001b[K     |██████████████████████████████  | 1.1 MB 7.9 MB/s eta 0:00:01\r\u001b[K     |██████████████████████████████▎ | 1.1 MB 7.9 MB/s eta 0:00:01\r\u001b[K     |██████████████████████████████▌ | 1.2 MB 7.9 MB/s eta 0:00:01\r\u001b[K     |██████████████████████████████▊ | 1.2 MB 7.9 MB/s eta 0:00:01\r\u001b[K     |███████████████████████████████ | 1.2 MB 7.9 MB/s eta 0:00:01\r\u001b[K     |███████████████████████████████▎| 1.2 MB 7.9 MB/s eta 0:00:01\r\u001b[K     |███████████████████████████████▋| 1.2 MB 7.9 MB/s eta 0:00:01\r\u001b[K     |███████████████████████████████▉| 1.2 MB 7.9 MB/s eta 0:00:01\r\u001b[K     |████████████████████████████████| 1.2 MB 7.9 MB/s \n",
            "\u001b[?25hInstalling collected packages: sentencepiece\n",
            "Successfully installed sentencepiece-0.1.96\n"
          ]
        }
      ]
    },
    {
      "cell_type": "code",
      "execution_count": 13,
      "metadata": {
        "id": "sprRiigmNJ8-"
      },
      "outputs": [],
      "source": [
        "import datetime\n",
        "import pandas as pd\n",
        "import tensorflow as tf\n",
        "from tensorflow.keras import regularizers\n",
        "from transformers import AutoTokenizer, TFAutoModelForSequenceClassification"
      ]
    },
    {
      "cell_type": "code",
      "execution_count": 14,
      "metadata": {
        "id": "wrU3HuLyNRCu"
      },
      "outputs": [],
      "source": [
        "pd.set_option('display.expand_frame_repr', False)"
      ]
    },
    {
      "cell_type": "code",
      "execution_count": 15,
      "metadata": {
        "colab": {
          "base_uri": "https://localhost:8080/"
        },
        "id": "GYv-jikfNWyG",
        "outputId": "c3cd189a-e03c-40ab-f5e3-32c9ea81161f"
      },
      "outputs": [
        {
          "output_type": "stream",
          "name": "stdout",
          "text": [
            "Number of replicas: 1\n"
          ]
        }
      ],
      "source": [
        "## Set up the TPU\n",
        "try:\n",
        "    tpu = tf.distribute.cluster_resolver.TPUClusterResolver()\n",
        "    tf.config.experimental_connect_to_cluster(tpu)\n",
        "    tf.tpu.experimental.initialize_tpu_system(tpu)\n",
        "    strategy = tf.distribute.experimental.TPUStrategy(tpu)\n",
        "except ValueError:\n",
        "    strategy = tf.distribute.get_strategy() # for CPU and single GPU\n",
        "\n",
        "print('Number of replicas:', strategy.num_replicas_in_sync)"
      ]
    },
    {
      "cell_type": "code",
      "execution_count": 16,
      "metadata": {
        "id": "__-hOSGRzmeG"
      },
      "outputs": [],
      "source": [
        "## Load Data"
      ]
    },
    {
      "cell_type": "code",
      "source": [
        "dataset = pd.read_csv('dataset.csv')\n",
        "train_labels = dataset['label']\n",
        "train = dataset.drop(columns='label')"
      ],
      "metadata": {
        "id": "8vQetlMldIhp"
      },
      "execution_count": 17,
      "outputs": []
    },
    {
      "cell_type": "code",
      "source": [
        "print(\"training data shape: \\t\", train.shape)\n",
        "print(\"training labels shape: \\t\", train_labels.shape)"
      ],
      "metadata": {
        "colab": {
          "base_uri": "https://localhost:8080/"
        },
        "id": "aV6inNQAmKxm",
        "outputId": "92db1205-8cd0-4b4b-885e-5643f2829475"
      },
      "execution_count": 18,
      "outputs": [
        {
          "output_type": "stream",
          "name": "stdout",
          "text": [
            "training data shape: \t (12120, 5)\n",
            "training labels shape: \t (12120,)\n"
          ]
        }
      ]
    },
    {
      "cell_type": "code",
      "source": [
        "## Set hyperparameters"
      ],
      "metadata": {
        "id": "5XbKJKK_bglz"
      },
      "execution_count": 19,
      "outputs": []
    },
    {
      "cell_type": "code",
      "source": [
        "model_name = \"joeddav/xlm-roberta-large-xnli\"\n",
        "tokenizer_length = 150\n",
        "learning_rate =  0.00002\n",
        "batch_factor = 8\n",
        "validation_split = 0.25\n",
        "kernel_initializer = \"lecun_normal\"\n",
        "epochs = 5\n",
        "patience = 2\n",
        "l1 = 0.0075\n",
        "l2 = 0.0025"
      ],
      "metadata": {
        "id": "XaOymYoseWcY"
      },
      "execution_count": 20,
      "outputs": []
    },
    {
      "cell_type": "code",
      "execution_count": 21,
      "metadata": {
        "id": "pruQ7OYLziz9"
      },
      "outputs": [],
      "source": [
        "## Tokenization"
      ]
    },
    {
      "cell_type": "code",
      "execution_count": 22,
      "metadata": {
        "colab": {
          "base_uri": "https://localhost:8080/"
        },
        "id": "dJtapf9JwLvZ",
        "outputId": "10f2b838-37ba-4480-f59b-e5bf0946c6ac"
      },
      "outputs": [
        {
          "output_type": "stream",
          "name": "stdout",
          "text": [
            "min length of \"premise\" column: 4\n",
            "average length of \"premise\" column: 107\n",
            "max length of \"premise\" column: 967 \n",
            "\n",
            "min length of \"hypothesis\" column: 4\n",
            "average length of \"hypothesis\" column: 54\n",
            "max length of \"hypothesis\" column: 276\n"
          ]
        }
      ],
      "source": [
        "# premise average length: 107\n",
        "# hypothesis average length: 54\n",
        "print('min length of \\\"premise\\\" column:', train['premise'].apply(len).min())\n",
        "print('average length of \\\"premise\\\" column:', round(train['premise'].apply(len).mean()))\n",
        "print('max length of \\\"premise\\\" column:', train['premise'].apply(len).max(), \"\\n\")\n",
        "\n",
        "print('min length of \\\"hypothesis\\\" column:', train['hypothesis'].apply(len).min())\n",
        "print('average length of \\\"hypothesis\\\" column:', round(train['hypothesis'].apply(len).mean()))\n",
        "print('max length of \\\"hypothesis\\\" column:', train['hypothesis'].apply(len).max())"
      ]
    },
    {
      "cell_type": "code",
      "execution_count": 23,
      "metadata": {
        "id": "Mn6muQJ0NdH2",
        "colab": {
          "base_uri": "https://localhost:8080/",
          "height": 145,
          "referenced_widgets": [
            "5db692b136624dcfbd27d50a0d771208",
            "5b7c5e72979142138ee216ebedf30535",
            "2d7b95c6dc2a4100828be13f0dd22ae1",
            "c062f2b418ef4a2a919530ec276cc214",
            "4a945bd429774eb0acdf88d85e36c533",
            "40fcf0ff7769412ca0479b48f18e2323",
            "43687573be7b4faf9565e234a418af39",
            "9c6b84c4db434e0bb738c4ac4bcb6aea",
            "58781b3bddc44553adf89ff11b18fc76",
            "a5dfca31ef094bb4b99314c6fe09e8cc",
            "4686440ab6e24f6791bf51da4497640d",
            "2c334aaf6c9a4d13a11da2852b80230e",
            "3c72327a776b47b2b5a731eb262d4be6",
            "0300374f2f754eb9a81725913b5dc365",
            "ea3b6f06f5ba4995bcdd20b37e7a677c",
            "a0926afaad3a4120ac7c39f08982ca0e",
            "d2537b4ccc274c628d78be38cd9276c2",
            "30d4951972094b3dbb677643e40bc017",
            "75c5898dbbd2414196fd299e39cc4c49",
            "1d55f0eab9b24ec69e93b4b758f3d90c",
            "fee8fe4fb54c434498209a83a6381a59",
            "2dc90cb4adae4a0eab701bdaeab18f98",
            "5d4650afab254b46b55ffdf8131b67a0",
            "e5e63368dd4f4e109bdb9e7bfc88731d",
            "586f4d5d55c34a3aaf43c0e8894d1fc6",
            "5792e98d494e4ac184bf470d964a9459",
            "36088684a3b34d528652922c74afe718",
            "6b59701a880d4a65a4013df030afa507",
            "e63a803500274594bb7ffd59633059ce",
            "78d5c658239b478aaaefce24bc147093",
            "9d05625a22364de7b4ccc3d681e0e46f",
            "d268e1c5a1114abb9ca889e8a718f9ff",
            "56501966b1a4465bbdfa1e275602a0e7",
            "1f25ecce8698450381c416cf9235f1fa",
            "5e7e16d64ac041628a274fcfc7c0310d",
            "403eb203aa0a47b58f236f9086b1fc4e",
            "ae2ecc7c362548e295906151cf673b97",
            "b3a54aadb5224ecf95df79eacf1b1fc6",
            "ae2835384e6a4c259d4e35d4f533551f",
            "4b49582b975349e68a7953c748a414e1",
            "701b9ae0b94940699d952c8451b20479",
            "a46d9cf2b17d484cb5e632af917edc13",
            "7e6c8a8c4ad849cda67b7485947716f8",
            "066fb636547f4528bb97f8793317e3a9"
          ]
        },
        "outputId": "a27f0e82-3597-4dc9-f2ac-a6062d936604"
      },
      "outputs": [
        {
          "output_type": "display_data",
          "data": {
            "text/plain": [
              "Downloading:   0%|          | 0.00/25.0 [00:00<?, ?B/s]"
            ],
            "application/vnd.jupyter.widget-view+json": {
              "version_major": 2,
              "version_minor": 0,
              "model_id": "5db692b136624dcfbd27d50a0d771208"
            }
          },
          "metadata": {}
        },
        {
          "output_type": "display_data",
          "data": {
            "text/plain": [
              "Downloading:   0%|          | 0.00/734 [00:00<?, ?B/s]"
            ],
            "application/vnd.jupyter.widget-view+json": {
              "version_major": 2,
              "version_minor": 0,
              "model_id": "2c334aaf6c9a4d13a11da2852b80230e"
            }
          },
          "metadata": {}
        },
        {
          "output_type": "display_data",
          "data": {
            "text/plain": [
              "Downloading:   0%|          | 0.00/4.83M [00:00<?, ?B/s]"
            ],
            "application/vnd.jupyter.widget-view+json": {
              "version_major": 2,
              "version_minor": 0,
              "model_id": "5d4650afab254b46b55ffdf8131b67a0"
            }
          },
          "metadata": {}
        },
        {
          "output_type": "display_data",
          "data": {
            "text/plain": [
              "Downloading:   0%|          | 0.00/150 [00:00<?, ?B/s]"
            ],
            "application/vnd.jupyter.widget-view+json": {
              "version_major": 2,
              "version_minor": 0,
              "model_id": "1f25ecce8698450381c416cf9235f1fa"
            }
          },
          "metadata": {}
        }
      ],
      "source": [
        "tokenizer = AutoTokenizer.from_pretrained(model_name)\n",
        "\n",
        "train_batch = tokenizer.batch_encode_plus(\n",
        "    train[['premise','hypothesis']].values.tolist(),\n",
        "    padding='max_length',\n",
        "    truncation=True,\n",
        "    max_length=tokenizer_length,\n",
        "    return_attention_mask=True,\n",
        ")"
      ]
    },
    {
      "cell_type": "code",
      "execution_count": 24,
      "metadata": {
        "id": "JxlR67htW59c"
      },
      "outputs": [],
      "source": [
        "train_tf1=tf.convert_to_tensor(train_batch['input_ids'],dtype=tf.int32)\n",
        "train_tf2=tf.convert_to_tensor(train_batch['attention_mask'],dtype=tf.int32)\n",
        "train_input={'input_word_ids':train_tf1,'input_mask':train_tf2}"
      ]
    },
    {
      "cell_type": "code",
      "execution_count": 25,
      "metadata": {
        "id": "27H8-5pAfLAK"
      },
      "outputs": [],
      "source": [
        "## Train model"
      ]
    },
    {
      "cell_type": "code",
      "source": [
        "with strategy.scope():\n",
        "    input_word_ids = tf.keras.Input(shape=(tokenizer_length,), dtype=tf.int32, name=\"input_word_ids\")\n",
        "    input_mask = tf.keras.Input(shape=(tokenizer_length,), dtype=tf.int32, name=\"input_mask\")\n",
        "   \n",
        "    tf_model = TFAutoModelForSequenceClassification.from_pretrained(model_name)\n",
        "    embedding = tf_model([input_word_ids, input_mask])[0]\n",
        "\n",
        "    output = tf.keras.layers.Dense(3, \n",
        "                                kernel_initializer = kernel_initializer,  \n",
        "                                kernel_regularizer = regularizers.l1_l2(l1 = l1, l2 = l2),          \n",
        "                                activation = 'softmax')(embedding)\n",
        "\n",
        "    model = tf.keras.Model(inputs = [input_word_ids,input_mask], outputs = output)\n",
        "    \n",
        "    model.compile(optimizer = tf.keras.optimizers.Adam(learning_rate = learning_rate),\n",
        "                loss = 'sparse_categorical_crossentropy',\n",
        "                metrics = ['accuracy'])\n",
        "    \n",
        "    model.summary()"
      ],
      "metadata": {
        "colab": {
          "base_uri": "https://localhost:8080/",
          "height": 500,
          "referenced_widgets": [
            "44745140dc0f407487f572c4097344eb",
            "aa5b14da1841457fb3e43060906f899d",
            "ecde16d70a484ac58e072117eedacad0",
            "d2dba0b6d36045b1a7348b806b1a9d3c",
            "c6c51f68f8c246879fec044b38005d95",
            "c71f285d8c5f4090b9b01cc96794369b",
            "b78a47f5a41142a7932980c30405b6b0",
            "4038ce07895342aaa81324bf9468ce3d",
            "9d8e9b0f181d454f9a39df786b86bc3b",
            "c538dbd46ff14964b50afc3b3b9f5204",
            "83b747dfc5534be48dc7b16d66252673"
          ]
        },
        "id": "ubNsCGo5od6O",
        "outputId": "b12814fe-7b6d-4311-f5e5-5293719f04f1"
      },
      "execution_count": 26,
      "outputs": [
        {
          "output_type": "display_data",
          "data": {
            "text/plain": [
              "Downloading:   0%|          | 0.00/2.09G [00:00<?, ?B/s]"
            ],
            "application/vnd.jupyter.widget-view+json": {
              "version_major": 2,
              "version_minor": 0,
              "model_id": "44745140dc0f407487f572c4097344eb"
            }
          },
          "metadata": {}
        },
        {
          "output_type": "stream",
          "name": "stderr",
          "text": [
            "All model checkpoint layers were used when initializing TFXLMRobertaForSequenceClassification.\n",
            "\n",
            "All the layers of TFXLMRobertaForSequenceClassification were initialized from the model checkpoint at joeddav/xlm-roberta-large-xnli.\n",
            "If your task is similar to the task the model of the checkpoint was trained on, you can already use TFXLMRobertaForSequenceClassification for predictions without further training.\n"
          ]
        },
        {
          "output_type": "stream",
          "name": "stdout",
          "text": [
            "Model: \"model\"\n",
            "__________________________________________________________________________________________________\n",
            " Layer (type)                   Output Shape         Param #     Connected to                     \n",
            "==================================================================================================\n",
            " input_word_ids (InputLayer)    [(None, 150)]        0           []                               \n",
            "                                                                                                  \n",
            " input_mask (InputLayer)        [(None, 150)]        0           []                               \n",
            "                                                                                                  \n",
            " tfxlm_roberta_for_sequence_cla  TFSequenceClassifie  559893507  ['input_word_ids[0][0]',         \n",
            " ssification (TFXLMRobertaForSe  rOutput(loss=None,               'input_mask[0][0]']             \n",
            " quenceClassification)          logits=(None, 3),                                                 \n",
            "                                 hidden_states=None                                               \n",
            "                                , attentions=None)                                                \n",
            "                                                                                                  \n",
            " dense (Dense)                  (None, 3)            12          ['tfxlm_roberta_for_sequence_clas\n",
            "                                                                 sification[0][0]']               \n",
            "                                                                                                  \n",
            "==================================================================================================\n",
            "Total params: 559,893,519\n",
            "Trainable params: 559,893,519\n",
            "Non-trainable params: 0\n",
            "__________________________________________________________________________________________________\n"
          ]
        }
      ]
    },
    {
      "cell_type": "code",
      "source": [
        "timestamp = datetime.datetime.now().strftime('%Y-%m-%d__%H-%M-%S')\n",
        "\n",
        "early_stop = tf.keras.callbacks.EarlyStopping(patience = patience, \n",
        "                                              restore_best_weights = True, \n",
        "                                              verbose = 1, \n",
        "                                              monitor = 'val_accuracy')\n",
        "\n",
        "checkpoint = tf.keras.callbacks.ModelCheckpoint(timestamp + \".hdf5\", \n",
        "                                                verbose = 0, \n",
        "                                                save_best_only = True, \n",
        "                                                monitor = 'val_accuracy')"
      ],
      "metadata": {
        "id": "acEw3Cah8nKt"
      },
      "execution_count": 27,
      "outputs": []
    },
    {
      "cell_type": "code",
      "source": [
        "history = model.fit(train_input, \n",
        "                    train_labels, \n",
        "                    epochs = epochs, \n",
        "                    verbose = 1, \n",
        "                    batch_size = batch_factor * strategy.num_replicas_in_sync, \n",
        "                    validation_split = validation_split,\n",
        "                    shuffle = True, \n",
        "                    callbacks=[early_stop, checkpoint])"
      ],
      "metadata": {
        "colab": {
          "base_uri": "https://localhost:8080/"
        },
        "id": "Taev7vHCpLe0",
        "outputId": "103cc2be-844d-4903-b4c5-bf52f88bf58d"
      },
      "execution_count": 28,
      "outputs": [
        {
          "output_type": "stream",
          "name": "stdout",
          "text": [
            "Epoch 1/5\n",
            "1137/1137 [==============================] - 799s 676ms/step - loss: 0.6093 - accuracy: 0.7969 - val_loss: 0.4279 - val_accuracy: 0.8650\n",
            "Epoch 2/5\n",
            "1137/1137 [==============================] - 728s 640ms/step - loss: 0.3788 - accuracy: 0.8864 - val_loss: 0.4606 - val_accuracy: 0.8647\n",
            "Epoch 3/5\n",
            "1137/1137 [==============================] - ETA: 0s - loss: 0.2918 - accuracy: 0.9204Restoring model weights from the end of the best epoch: 1.\n",
            "1137/1137 [==============================] - 728s 640ms/step - loss: 0.2918 - accuracy: 0.9204 - val_loss: 0.5859 - val_accuracy: 0.8439\n",
            "Epoch 3: early stopping\n"
          ]
        }
      ]
    },
    {
      "cell_type": "code",
      "source": [
        "history_log(\"training_log_\" + timestamp)\n",
        "hyperparameter_log(\"hyperparameter_log_\" + timestamp)"
      ],
      "metadata": {
        "id": "zHAqsCwkpLWy"
      },
      "execution_count": 29,
      "outputs": []
    }
  ],
  "metadata": {
    "colab": {
      "collapsed_sections": [],
      "name": "contradiction_and_entailment.ipynb",
      "provenance": [],
      "authorship_tag": "ABX9TyNf+pf4ebUJl5KGZCN5B9Hb",
      "include_colab_link": true
    },
    "kernelspec": {
      "display_name": "Python 3",
      "name": "python3"
    },
    "language_info": {
      "name": "python"
    },
    "accelerator": "GPU",
    "widgets": {
      "application/vnd.jupyter.widget-state+json": {
        "5db692b136624dcfbd27d50a0d771208": {
          "model_module": "@jupyter-widgets/controls",
          "model_name": "HBoxModel",
          "model_module_version": "1.5.0",
          "state": {
            "_dom_classes": [],
            "_model_module": "@jupyter-widgets/controls",
            "_model_module_version": "1.5.0",
            "_model_name": "HBoxModel",
            "_view_count": null,
            "_view_module": "@jupyter-widgets/controls",
            "_view_module_version": "1.5.0",
            "_view_name": "HBoxView",
            "box_style": "",
            "children": [
              "IPY_MODEL_5b7c5e72979142138ee216ebedf30535",
              "IPY_MODEL_2d7b95c6dc2a4100828be13f0dd22ae1",
              "IPY_MODEL_c062f2b418ef4a2a919530ec276cc214"
            ],
            "layout": "IPY_MODEL_4a945bd429774eb0acdf88d85e36c533"
          }
        },
        "5b7c5e72979142138ee216ebedf30535": {
          "model_module": "@jupyter-widgets/controls",
          "model_name": "HTMLModel",
          "model_module_version": "1.5.0",
          "state": {
            "_dom_classes": [],
            "_model_module": "@jupyter-widgets/controls",
            "_model_module_version": "1.5.0",
            "_model_name": "HTMLModel",
            "_view_count": null,
            "_view_module": "@jupyter-widgets/controls",
            "_view_module_version": "1.5.0",
            "_view_name": "HTMLView",
            "description": "",
            "description_tooltip": null,
            "layout": "IPY_MODEL_40fcf0ff7769412ca0479b48f18e2323",
            "placeholder": "​",
            "style": "IPY_MODEL_43687573be7b4faf9565e234a418af39",
            "value": "Downloading: 100%"
          }
        },
        "2d7b95c6dc2a4100828be13f0dd22ae1": {
          "model_module": "@jupyter-widgets/controls",
          "model_name": "FloatProgressModel",
          "model_module_version": "1.5.0",
          "state": {
            "_dom_classes": [],
            "_model_module": "@jupyter-widgets/controls",
            "_model_module_version": "1.5.0",
            "_model_name": "FloatProgressModel",
            "_view_count": null,
            "_view_module": "@jupyter-widgets/controls",
            "_view_module_version": "1.5.0",
            "_view_name": "ProgressView",
            "bar_style": "success",
            "description": "",
            "description_tooltip": null,
            "layout": "IPY_MODEL_9c6b84c4db434e0bb738c4ac4bcb6aea",
            "max": 25,
            "min": 0,
            "orientation": "horizontal",
            "style": "IPY_MODEL_58781b3bddc44553adf89ff11b18fc76",
            "value": 25
          }
        },
        "c062f2b418ef4a2a919530ec276cc214": {
          "model_module": "@jupyter-widgets/controls",
          "model_name": "HTMLModel",
          "model_module_version": "1.5.0",
          "state": {
            "_dom_classes": [],
            "_model_module": "@jupyter-widgets/controls",
            "_model_module_version": "1.5.0",
            "_model_name": "HTMLModel",
            "_view_count": null,
            "_view_module": "@jupyter-widgets/controls",
            "_view_module_version": "1.5.0",
            "_view_name": "HTMLView",
            "description": "",
            "description_tooltip": null,
            "layout": "IPY_MODEL_a5dfca31ef094bb4b99314c6fe09e8cc",
            "placeholder": "​",
            "style": "IPY_MODEL_4686440ab6e24f6791bf51da4497640d",
            "value": " 25.0/25.0 [00:00&lt;00:00, 743B/s]"
          }
        },
        "4a945bd429774eb0acdf88d85e36c533": {
          "model_module": "@jupyter-widgets/base",
          "model_name": "LayoutModel",
          "model_module_version": "1.2.0",
          "state": {
            "_model_module": "@jupyter-widgets/base",
            "_model_module_version": "1.2.0",
            "_model_name": "LayoutModel",
            "_view_count": null,
            "_view_module": "@jupyter-widgets/base",
            "_view_module_version": "1.2.0",
            "_view_name": "LayoutView",
            "align_content": null,
            "align_items": null,
            "align_self": null,
            "border": null,
            "bottom": null,
            "display": null,
            "flex": null,
            "flex_flow": null,
            "grid_area": null,
            "grid_auto_columns": null,
            "grid_auto_flow": null,
            "grid_auto_rows": null,
            "grid_column": null,
            "grid_gap": null,
            "grid_row": null,
            "grid_template_areas": null,
            "grid_template_columns": null,
            "grid_template_rows": null,
            "height": null,
            "justify_content": null,
            "justify_items": null,
            "left": null,
            "margin": null,
            "max_height": null,
            "max_width": null,
            "min_height": null,
            "min_width": null,
            "object_fit": null,
            "object_position": null,
            "order": null,
            "overflow": null,
            "overflow_x": null,
            "overflow_y": null,
            "padding": null,
            "right": null,
            "top": null,
            "visibility": null,
            "width": null
          }
        },
        "40fcf0ff7769412ca0479b48f18e2323": {
          "model_module": "@jupyter-widgets/base",
          "model_name": "LayoutModel",
          "model_module_version": "1.2.0",
          "state": {
            "_model_module": "@jupyter-widgets/base",
            "_model_module_version": "1.2.0",
            "_model_name": "LayoutModel",
            "_view_count": null,
            "_view_module": "@jupyter-widgets/base",
            "_view_module_version": "1.2.0",
            "_view_name": "LayoutView",
            "align_content": null,
            "align_items": null,
            "align_self": null,
            "border": null,
            "bottom": null,
            "display": null,
            "flex": null,
            "flex_flow": null,
            "grid_area": null,
            "grid_auto_columns": null,
            "grid_auto_flow": null,
            "grid_auto_rows": null,
            "grid_column": null,
            "grid_gap": null,
            "grid_row": null,
            "grid_template_areas": null,
            "grid_template_columns": null,
            "grid_template_rows": null,
            "height": null,
            "justify_content": null,
            "justify_items": null,
            "left": null,
            "margin": null,
            "max_height": null,
            "max_width": null,
            "min_height": null,
            "min_width": null,
            "object_fit": null,
            "object_position": null,
            "order": null,
            "overflow": null,
            "overflow_x": null,
            "overflow_y": null,
            "padding": null,
            "right": null,
            "top": null,
            "visibility": null,
            "width": null
          }
        },
        "43687573be7b4faf9565e234a418af39": {
          "model_module": "@jupyter-widgets/controls",
          "model_name": "DescriptionStyleModel",
          "model_module_version": "1.5.0",
          "state": {
            "_model_module": "@jupyter-widgets/controls",
            "_model_module_version": "1.5.0",
            "_model_name": "DescriptionStyleModel",
            "_view_count": null,
            "_view_module": "@jupyter-widgets/base",
            "_view_module_version": "1.2.0",
            "_view_name": "StyleView",
            "description_width": ""
          }
        },
        "9c6b84c4db434e0bb738c4ac4bcb6aea": {
          "model_module": "@jupyter-widgets/base",
          "model_name": "LayoutModel",
          "model_module_version": "1.2.0",
          "state": {
            "_model_module": "@jupyter-widgets/base",
            "_model_module_version": "1.2.0",
            "_model_name": "LayoutModel",
            "_view_count": null,
            "_view_module": "@jupyter-widgets/base",
            "_view_module_version": "1.2.0",
            "_view_name": "LayoutView",
            "align_content": null,
            "align_items": null,
            "align_self": null,
            "border": null,
            "bottom": null,
            "display": null,
            "flex": null,
            "flex_flow": null,
            "grid_area": null,
            "grid_auto_columns": null,
            "grid_auto_flow": null,
            "grid_auto_rows": null,
            "grid_column": null,
            "grid_gap": null,
            "grid_row": null,
            "grid_template_areas": null,
            "grid_template_columns": null,
            "grid_template_rows": null,
            "height": null,
            "justify_content": null,
            "justify_items": null,
            "left": null,
            "margin": null,
            "max_height": null,
            "max_width": null,
            "min_height": null,
            "min_width": null,
            "object_fit": null,
            "object_position": null,
            "order": null,
            "overflow": null,
            "overflow_x": null,
            "overflow_y": null,
            "padding": null,
            "right": null,
            "top": null,
            "visibility": null,
            "width": null
          }
        },
        "58781b3bddc44553adf89ff11b18fc76": {
          "model_module": "@jupyter-widgets/controls",
          "model_name": "ProgressStyleModel",
          "model_module_version": "1.5.0",
          "state": {
            "_model_module": "@jupyter-widgets/controls",
            "_model_module_version": "1.5.0",
            "_model_name": "ProgressStyleModel",
            "_view_count": null,
            "_view_module": "@jupyter-widgets/base",
            "_view_module_version": "1.2.0",
            "_view_name": "StyleView",
            "bar_color": null,
            "description_width": ""
          }
        },
        "a5dfca31ef094bb4b99314c6fe09e8cc": {
          "model_module": "@jupyter-widgets/base",
          "model_name": "LayoutModel",
          "model_module_version": "1.2.0",
          "state": {
            "_model_module": "@jupyter-widgets/base",
            "_model_module_version": "1.2.0",
            "_model_name": "LayoutModel",
            "_view_count": null,
            "_view_module": "@jupyter-widgets/base",
            "_view_module_version": "1.2.0",
            "_view_name": "LayoutView",
            "align_content": null,
            "align_items": null,
            "align_self": null,
            "border": null,
            "bottom": null,
            "display": null,
            "flex": null,
            "flex_flow": null,
            "grid_area": null,
            "grid_auto_columns": null,
            "grid_auto_flow": null,
            "grid_auto_rows": null,
            "grid_column": null,
            "grid_gap": null,
            "grid_row": null,
            "grid_template_areas": null,
            "grid_template_columns": null,
            "grid_template_rows": null,
            "height": null,
            "justify_content": null,
            "justify_items": null,
            "left": null,
            "margin": null,
            "max_height": null,
            "max_width": null,
            "min_height": null,
            "min_width": null,
            "object_fit": null,
            "object_position": null,
            "order": null,
            "overflow": null,
            "overflow_x": null,
            "overflow_y": null,
            "padding": null,
            "right": null,
            "top": null,
            "visibility": null,
            "width": null
          }
        },
        "4686440ab6e24f6791bf51da4497640d": {
          "model_module": "@jupyter-widgets/controls",
          "model_name": "DescriptionStyleModel",
          "model_module_version": "1.5.0",
          "state": {
            "_model_module": "@jupyter-widgets/controls",
            "_model_module_version": "1.5.0",
            "_model_name": "DescriptionStyleModel",
            "_view_count": null,
            "_view_module": "@jupyter-widgets/base",
            "_view_module_version": "1.2.0",
            "_view_name": "StyleView",
            "description_width": ""
          }
        },
        "2c334aaf6c9a4d13a11da2852b80230e": {
          "model_module": "@jupyter-widgets/controls",
          "model_name": "HBoxModel",
          "model_module_version": "1.5.0",
          "state": {
            "_dom_classes": [],
            "_model_module": "@jupyter-widgets/controls",
            "_model_module_version": "1.5.0",
            "_model_name": "HBoxModel",
            "_view_count": null,
            "_view_module": "@jupyter-widgets/controls",
            "_view_module_version": "1.5.0",
            "_view_name": "HBoxView",
            "box_style": "",
            "children": [
              "IPY_MODEL_3c72327a776b47b2b5a731eb262d4be6",
              "IPY_MODEL_0300374f2f754eb9a81725913b5dc365",
              "IPY_MODEL_ea3b6f06f5ba4995bcdd20b37e7a677c"
            ],
            "layout": "IPY_MODEL_a0926afaad3a4120ac7c39f08982ca0e"
          }
        },
        "3c72327a776b47b2b5a731eb262d4be6": {
          "model_module": "@jupyter-widgets/controls",
          "model_name": "HTMLModel",
          "model_module_version": "1.5.0",
          "state": {
            "_dom_classes": [],
            "_model_module": "@jupyter-widgets/controls",
            "_model_module_version": "1.5.0",
            "_model_name": "HTMLModel",
            "_view_count": null,
            "_view_module": "@jupyter-widgets/controls",
            "_view_module_version": "1.5.0",
            "_view_name": "HTMLView",
            "description": "",
            "description_tooltip": null,
            "layout": "IPY_MODEL_d2537b4ccc274c628d78be38cd9276c2",
            "placeholder": "​",
            "style": "IPY_MODEL_30d4951972094b3dbb677643e40bc017",
            "value": "Downloading: 100%"
          }
        },
        "0300374f2f754eb9a81725913b5dc365": {
          "model_module": "@jupyter-widgets/controls",
          "model_name": "FloatProgressModel",
          "model_module_version": "1.5.0",
          "state": {
            "_dom_classes": [],
            "_model_module": "@jupyter-widgets/controls",
            "_model_module_version": "1.5.0",
            "_model_name": "FloatProgressModel",
            "_view_count": null,
            "_view_module": "@jupyter-widgets/controls",
            "_view_module_version": "1.5.0",
            "_view_name": "ProgressView",
            "bar_style": "success",
            "description": "",
            "description_tooltip": null,
            "layout": "IPY_MODEL_75c5898dbbd2414196fd299e39cc4c49",
            "max": 734,
            "min": 0,
            "orientation": "horizontal",
            "style": "IPY_MODEL_1d55f0eab9b24ec69e93b4b758f3d90c",
            "value": 734
          }
        },
        "ea3b6f06f5ba4995bcdd20b37e7a677c": {
          "model_module": "@jupyter-widgets/controls",
          "model_name": "HTMLModel",
          "model_module_version": "1.5.0",
          "state": {
            "_dom_classes": [],
            "_model_module": "@jupyter-widgets/controls",
            "_model_module_version": "1.5.0",
            "_model_name": "HTMLModel",
            "_view_count": null,
            "_view_module": "@jupyter-widgets/controls",
            "_view_module_version": "1.5.0",
            "_view_name": "HTMLView",
            "description": "",
            "description_tooltip": null,
            "layout": "IPY_MODEL_fee8fe4fb54c434498209a83a6381a59",
            "placeholder": "​",
            "style": "IPY_MODEL_2dc90cb4adae4a0eab701bdaeab18f98",
            "value": " 734/734 [00:00&lt;00:00, 19.4kB/s]"
          }
        },
        "a0926afaad3a4120ac7c39f08982ca0e": {
          "model_module": "@jupyter-widgets/base",
          "model_name": "LayoutModel",
          "model_module_version": "1.2.0",
          "state": {
            "_model_module": "@jupyter-widgets/base",
            "_model_module_version": "1.2.0",
            "_model_name": "LayoutModel",
            "_view_count": null,
            "_view_module": "@jupyter-widgets/base",
            "_view_module_version": "1.2.0",
            "_view_name": "LayoutView",
            "align_content": null,
            "align_items": null,
            "align_self": null,
            "border": null,
            "bottom": null,
            "display": null,
            "flex": null,
            "flex_flow": null,
            "grid_area": null,
            "grid_auto_columns": null,
            "grid_auto_flow": null,
            "grid_auto_rows": null,
            "grid_column": null,
            "grid_gap": null,
            "grid_row": null,
            "grid_template_areas": null,
            "grid_template_columns": null,
            "grid_template_rows": null,
            "height": null,
            "justify_content": null,
            "justify_items": null,
            "left": null,
            "margin": null,
            "max_height": null,
            "max_width": null,
            "min_height": null,
            "min_width": null,
            "object_fit": null,
            "object_position": null,
            "order": null,
            "overflow": null,
            "overflow_x": null,
            "overflow_y": null,
            "padding": null,
            "right": null,
            "top": null,
            "visibility": null,
            "width": null
          }
        },
        "d2537b4ccc274c628d78be38cd9276c2": {
          "model_module": "@jupyter-widgets/base",
          "model_name": "LayoutModel",
          "model_module_version": "1.2.0",
          "state": {
            "_model_module": "@jupyter-widgets/base",
            "_model_module_version": "1.2.0",
            "_model_name": "LayoutModel",
            "_view_count": null,
            "_view_module": "@jupyter-widgets/base",
            "_view_module_version": "1.2.0",
            "_view_name": "LayoutView",
            "align_content": null,
            "align_items": null,
            "align_self": null,
            "border": null,
            "bottom": null,
            "display": null,
            "flex": null,
            "flex_flow": null,
            "grid_area": null,
            "grid_auto_columns": null,
            "grid_auto_flow": null,
            "grid_auto_rows": null,
            "grid_column": null,
            "grid_gap": null,
            "grid_row": null,
            "grid_template_areas": null,
            "grid_template_columns": null,
            "grid_template_rows": null,
            "height": null,
            "justify_content": null,
            "justify_items": null,
            "left": null,
            "margin": null,
            "max_height": null,
            "max_width": null,
            "min_height": null,
            "min_width": null,
            "object_fit": null,
            "object_position": null,
            "order": null,
            "overflow": null,
            "overflow_x": null,
            "overflow_y": null,
            "padding": null,
            "right": null,
            "top": null,
            "visibility": null,
            "width": null
          }
        },
        "30d4951972094b3dbb677643e40bc017": {
          "model_module": "@jupyter-widgets/controls",
          "model_name": "DescriptionStyleModel",
          "model_module_version": "1.5.0",
          "state": {
            "_model_module": "@jupyter-widgets/controls",
            "_model_module_version": "1.5.0",
            "_model_name": "DescriptionStyleModel",
            "_view_count": null,
            "_view_module": "@jupyter-widgets/base",
            "_view_module_version": "1.2.0",
            "_view_name": "StyleView",
            "description_width": ""
          }
        },
        "75c5898dbbd2414196fd299e39cc4c49": {
          "model_module": "@jupyter-widgets/base",
          "model_name": "LayoutModel",
          "model_module_version": "1.2.0",
          "state": {
            "_model_module": "@jupyter-widgets/base",
            "_model_module_version": "1.2.0",
            "_model_name": "LayoutModel",
            "_view_count": null,
            "_view_module": "@jupyter-widgets/base",
            "_view_module_version": "1.2.0",
            "_view_name": "LayoutView",
            "align_content": null,
            "align_items": null,
            "align_self": null,
            "border": null,
            "bottom": null,
            "display": null,
            "flex": null,
            "flex_flow": null,
            "grid_area": null,
            "grid_auto_columns": null,
            "grid_auto_flow": null,
            "grid_auto_rows": null,
            "grid_column": null,
            "grid_gap": null,
            "grid_row": null,
            "grid_template_areas": null,
            "grid_template_columns": null,
            "grid_template_rows": null,
            "height": null,
            "justify_content": null,
            "justify_items": null,
            "left": null,
            "margin": null,
            "max_height": null,
            "max_width": null,
            "min_height": null,
            "min_width": null,
            "object_fit": null,
            "object_position": null,
            "order": null,
            "overflow": null,
            "overflow_x": null,
            "overflow_y": null,
            "padding": null,
            "right": null,
            "top": null,
            "visibility": null,
            "width": null
          }
        },
        "1d55f0eab9b24ec69e93b4b758f3d90c": {
          "model_module": "@jupyter-widgets/controls",
          "model_name": "ProgressStyleModel",
          "model_module_version": "1.5.0",
          "state": {
            "_model_module": "@jupyter-widgets/controls",
            "_model_module_version": "1.5.0",
            "_model_name": "ProgressStyleModel",
            "_view_count": null,
            "_view_module": "@jupyter-widgets/base",
            "_view_module_version": "1.2.0",
            "_view_name": "StyleView",
            "bar_color": null,
            "description_width": ""
          }
        },
        "fee8fe4fb54c434498209a83a6381a59": {
          "model_module": "@jupyter-widgets/base",
          "model_name": "LayoutModel",
          "model_module_version": "1.2.0",
          "state": {
            "_model_module": "@jupyter-widgets/base",
            "_model_module_version": "1.2.0",
            "_model_name": "LayoutModel",
            "_view_count": null,
            "_view_module": "@jupyter-widgets/base",
            "_view_module_version": "1.2.0",
            "_view_name": "LayoutView",
            "align_content": null,
            "align_items": null,
            "align_self": null,
            "border": null,
            "bottom": null,
            "display": null,
            "flex": null,
            "flex_flow": null,
            "grid_area": null,
            "grid_auto_columns": null,
            "grid_auto_flow": null,
            "grid_auto_rows": null,
            "grid_column": null,
            "grid_gap": null,
            "grid_row": null,
            "grid_template_areas": null,
            "grid_template_columns": null,
            "grid_template_rows": null,
            "height": null,
            "justify_content": null,
            "justify_items": null,
            "left": null,
            "margin": null,
            "max_height": null,
            "max_width": null,
            "min_height": null,
            "min_width": null,
            "object_fit": null,
            "object_position": null,
            "order": null,
            "overflow": null,
            "overflow_x": null,
            "overflow_y": null,
            "padding": null,
            "right": null,
            "top": null,
            "visibility": null,
            "width": null
          }
        },
        "2dc90cb4adae4a0eab701bdaeab18f98": {
          "model_module": "@jupyter-widgets/controls",
          "model_name": "DescriptionStyleModel",
          "model_module_version": "1.5.0",
          "state": {
            "_model_module": "@jupyter-widgets/controls",
            "_model_module_version": "1.5.0",
            "_model_name": "DescriptionStyleModel",
            "_view_count": null,
            "_view_module": "@jupyter-widgets/base",
            "_view_module_version": "1.2.0",
            "_view_name": "StyleView",
            "description_width": ""
          }
        },
        "5d4650afab254b46b55ffdf8131b67a0": {
          "model_module": "@jupyter-widgets/controls",
          "model_name": "HBoxModel",
          "model_module_version": "1.5.0",
          "state": {
            "_dom_classes": [],
            "_model_module": "@jupyter-widgets/controls",
            "_model_module_version": "1.5.0",
            "_model_name": "HBoxModel",
            "_view_count": null,
            "_view_module": "@jupyter-widgets/controls",
            "_view_module_version": "1.5.0",
            "_view_name": "HBoxView",
            "box_style": "",
            "children": [
              "IPY_MODEL_e5e63368dd4f4e109bdb9e7bfc88731d",
              "IPY_MODEL_586f4d5d55c34a3aaf43c0e8894d1fc6",
              "IPY_MODEL_5792e98d494e4ac184bf470d964a9459"
            ],
            "layout": "IPY_MODEL_36088684a3b34d528652922c74afe718"
          }
        },
        "e5e63368dd4f4e109bdb9e7bfc88731d": {
          "model_module": "@jupyter-widgets/controls",
          "model_name": "HTMLModel",
          "model_module_version": "1.5.0",
          "state": {
            "_dom_classes": [],
            "_model_module": "@jupyter-widgets/controls",
            "_model_module_version": "1.5.0",
            "_model_name": "HTMLModel",
            "_view_count": null,
            "_view_module": "@jupyter-widgets/controls",
            "_view_module_version": "1.5.0",
            "_view_name": "HTMLView",
            "description": "",
            "description_tooltip": null,
            "layout": "IPY_MODEL_6b59701a880d4a65a4013df030afa507",
            "placeholder": "​",
            "style": "IPY_MODEL_e63a803500274594bb7ffd59633059ce",
            "value": "Downloading: 100%"
          }
        },
        "586f4d5d55c34a3aaf43c0e8894d1fc6": {
          "model_module": "@jupyter-widgets/controls",
          "model_name": "FloatProgressModel",
          "model_module_version": "1.5.0",
          "state": {
            "_dom_classes": [],
            "_model_module": "@jupyter-widgets/controls",
            "_model_module_version": "1.5.0",
            "_model_name": "FloatProgressModel",
            "_view_count": null,
            "_view_module": "@jupyter-widgets/controls",
            "_view_module_version": "1.5.0",
            "_view_name": "ProgressView",
            "bar_style": "success",
            "description": "",
            "description_tooltip": null,
            "layout": "IPY_MODEL_78d5c658239b478aaaefce24bc147093",
            "max": 5069051,
            "min": 0,
            "orientation": "horizontal",
            "style": "IPY_MODEL_9d05625a22364de7b4ccc3d681e0e46f",
            "value": 5069051
          }
        },
        "5792e98d494e4ac184bf470d964a9459": {
          "model_module": "@jupyter-widgets/controls",
          "model_name": "HTMLModel",
          "model_module_version": "1.5.0",
          "state": {
            "_dom_classes": [],
            "_model_module": "@jupyter-widgets/controls",
            "_model_module_version": "1.5.0",
            "_model_name": "HTMLModel",
            "_view_count": null,
            "_view_module": "@jupyter-widgets/controls",
            "_view_module_version": "1.5.0",
            "_view_name": "HTMLView",
            "description": "",
            "description_tooltip": null,
            "layout": "IPY_MODEL_d268e1c5a1114abb9ca889e8a718f9ff",
            "placeholder": "​",
            "style": "IPY_MODEL_56501966b1a4465bbdfa1e275602a0e7",
            "value": " 4.83M/4.83M [00:00&lt;00:00, 9.11MB/s]"
          }
        },
        "36088684a3b34d528652922c74afe718": {
          "model_module": "@jupyter-widgets/base",
          "model_name": "LayoutModel",
          "model_module_version": "1.2.0",
          "state": {
            "_model_module": "@jupyter-widgets/base",
            "_model_module_version": "1.2.0",
            "_model_name": "LayoutModel",
            "_view_count": null,
            "_view_module": "@jupyter-widgets/base",
            "_view_module_version": "1.2.0",
            "_view_name": "LayoutView",
            "align_content": null,
            "align_items": null,
            "align_self": null,
            "border": null,
            "bottom": null,
            "display": null,
            "flex": null,
            "flex_flow": null,
            "grid_area": null,
            "grid_auto_columns": null,
            "grid_auto_flow": null,
            "grid_auto_rows": null,
            "grid_column": null,
            "grid_gap": null,
            "grid_row": null,
            "grid_template_areas": null,
            "grid_template_columns": null,
            "grid_template_rows": null,
            "height": null,
            "justify_content": null,
            "justify_items": null,
            "left": null,
            "margin": null,
            "max_height": null,
            "max_width": null,
            "min_height": null,
            "min_width": null,
            "object_fit": null,
            "object_position": null,
            "order": null,
            "overflow": null,
            "overflow_x": null,
            "overflow_y": null,
            "padding": null,
            "right": null,
            "top": null,
            "visibility": null,
            "width": null
          }
        },
        "6b59701a880d4a65a4013df030afa507": {
          "model_module": "@jupyter-widgets/base",
          "model_name": "LayoutModel",
          "model_module_version": "1.2.0",
          "state": {
            "_model_module": "@jupyter-widgets/base",
            "_model_module_version": "1.2.0",
            "_model_name": "LayoutModel",
            "_view_count": null,
            "_view_module": "@jupyter-widgets/base",
            "_view_module_version": "1.2.0",
            "_view_name": "LayoutView",
            "align_content": null,
            "align_items": null,
            "align_self": null,
            "border": null,
            "bottom": null,
            "display": null,
            "flex": null,
            "flex_flow": null,
            "grid_area": null,
            "grid_auto_columns": null,
            "grid_auto_flow": null,
            "grid_auto_rows": null,
            "grid_column": null,
            "grid_gap": null,
            "grid_row": null,
            "grid_template_areas": null,
            "grid_template_columns": null,
            "grid_template_rows": null,
            "height": null,
            "justify_content": null,
            "justify_items": null,
            "left": null,
            "margin": null,
            "max_height": null,
            "max_width": null,
            "min_height": null,
            "min_width": null,
            "object_fit": null,
            "object_position": null,
            "order": null,
            "overflow": null,
            "overflow_x": null,
            "overflow_y": null,
            "padding": null,
            "right": null,
            "top": null,
            "visibility": null,
            "width": null
          }
        },
        "e63a803500274594bb7ffd59633059ce": {
          "model_module": "@jupyter-widgets/controls",
          "model_name": "DescriptionStyleModel",
          "model_module_version": "1.5.0",
          "state": {
            "_model_module": "@jupyter-widgets/controls",
            "_model_module_version": "1.5.0",
            "_model_name": "DescriptionStyleModel",
            "_view_count": null,
            "_view_module": "@jupyter-widgets/base",
            "_view_module_version": "1.2.0",
            "_view_name": "StyleView",
            "description_width": ""
          }
        },
        "78d5c658239b478aaaefce24bc147093": {
          "model_module": "@jupyter-widgets/base",
          "model_name": "LayoutModel",
          "model_module_version": "1.2.0",
          "state": {
            "_model_module": "@jupyter-widgets/base",
            "_model_module_version": "1.2.0",
            "_model_name": "LayoutModel",
            "_view_count": null,
            "_view_module": "@jupyter-widgets/base",
            "_view_module_version": "1.2.0",
            "_view_name": "LayoutView",
            "align_content": null,
            "align_items": null,
            "align_self": null,
            "border": null,
            "bottom": null,
            "display": null,
            "flex": null,
            "flex_flow": null,
            "grid_area": null,
            "grid_auto_columns": null,
            "grid_auto_flow": null,
            "grid_auto_rows": null,
            "grid_column": null,
            "grid_gap": null,
            "grid_row": null,
            "grid_template_areas": null,
            "grid_template_columns": null,
            "grid_template_rows": null,
            "height": null,
            "justify_content": null,
            "justify_items": null,
            "left": null,
            "margin": null,
            "max_height": null,
            "max_width": null,
            "min_height": null,
            "min_width": null,
            "object_fit": null,
            "object_position": null,
            "order": null,
            "overflow": null,
            "overflow_x": null,
            "overflow_y": null,
            "padding": null,
            "right": null,
            "top": null,
            "visibility": null,
            "width": null
          }
        },
        "9d05625a22364de7b4ccc3d681e0e46f": {
          "model_module": "@jupyter-widgets/controls",
          "model_name": "ProgressStyleModel",
          "model_module_version": "1.5.0",
          "state": {
            "_model_module": "@jupyter-widgets/controls",
            "_model_module_version": "1.5.0",
            "_model_name": "ProgressStyleModel",
            "_view_count": null,
            "_view_module": "@jupyter-widgets/base",
            "_view_module_version": "1.2.0",
            "_view_name": "StyleView",
            "bar_color": null,
            "description_width": ""
          }
        },
        "d268e1c5a1114abb9ca889e8a718f9ff": {
          "model_module": "@jupyter-widgets/base",
          "model_name": "LayoutModel",
          "model_module_version": "1.2.0",
          "state": {
            "_model_module": "@jupyter-widgets/base",
            "_model_module_version": "1.2.0",
            "_model_name": "LayoutModel",
            "_view_count": null,
            "_view_module": "@jupyter-widgets/base",
            "_view_module_version": "1.2.0",
            "_view_name": "LayoutView",
            "align_content": null,
            "align_items": null,
            "align_self": null,
            "border": null,
            "bottom": null,
            "display": null,
            "flex": null,
            "flex_flow": null,
            "grid_area": null,
            "grid_auto_columns": null,
            "grid_auto_flow": null,
            "grid_auto_rows": null,
            "grid_column": null,
            "grid_gap": null,
            "grid_row": null,
            "grid_template_areas": null,
            "grid_template_columns": null,
            "grid_template_rows": null,
            "height": null,
            "justify_content": null,
            "justify_items": null,
            "left": null,
            "margin": null,
            "max_height": null,
            "max_width": null,
            "min_height": null,
            "min_width": null,
            "object_fit": null,
            "object_position": null,
            "order": null,
            "overflow": null,
            "overflow_x": null,
            "overflow_y": null,
            "padding": null,
            "right": null,
            "top": null,
            "visibility": null,
            "width": null
          }
        },
        "56501966b1a4465bbdfa1e275602a0e7": {
          "model_module": "@jupyter-widgets/controls",
          "model_name": "DescriptionStyleModel",
          "model_module_version": "1.5.0",
          "state": {
            "_model_module": "@jupyter-widgets/controls",
            "_model_module_version": "1.5.0",
            "_model_name": "DescriptionStyleModel",
            "_view_count": null,
            "_view_module": "@jupyter-widgets/base",
            "_view_module_version": "1.2.0",
            "_view_name": "StyleView",
            "description_width": ""
          }
        },
        "1f25ecce8698450381c416cf9235f1fa": {
          "model_module": "@jupyter-widgets/controls",
          "model_name": "HBoxModel",
          "model_module_version": "1.5.0",
          "state": {
            "_dom_classes": [],
            "_model_module": "@jupyter-widgets/controls",
            "_model_module_version": "1.5.0",
            "_model_name": "HBoxModel",
            "_view_count": null,
            "_view_module": "@jupyter-widgets/controls",
            "_view_module_version": "1.5.0",
            "_view_name": "HBoxView",
            "box_style": "",
            "children": [
              "IPY_MODEL_5e7e16d64ac041628a274fcfc7c0310d",
              "IPY_MODEL_403eb203aa0a47b58f236f9086b1fc4e",
              "IPY_MODEL_ae2ecc7c362548e295906151cf673b97"
            ],
            "layout": "IPY_MODEL_b3a54aadb5224ecf95df79eacf1b1fc6"
          }
        },
        "5e7e16d64ac041628a274fcfc7c0310d": {
          "model_module": "@jupyter-widgets/controls",
          "model_name": "HTMLModel",
          "model_module_version": "1.5.0",
          "state": {
            "_dom_classes": [],
            "_model_module": "@jupyter-widgets/controls",
            "_model_module_version": "1.5.0",
            "_model_name": "HTMLModel",
            "_view_count": null,
            "_view_module": "@jupyter-widgets/controls",
            "_view_module_version": "1.5.0",
            "_view_name": "HTMLView",
            "description": "",
            "description_tooltip": null,
            "layout": "IPY_MODEL_ae2835384e6a4c259d4e35d4f533551f",
            "placeholder": "​",
            "style": "IPY_MODEL_4b49582b975349e68a7953c748a414e1",
            "value": "Downloading: 100%"
          }
        },
        "403eb203aa0a47b58f236f9086b1fc4e": {
          "model_module": "@jupyter-widgets/controls",
          "model_name": "FloatProgressModel",
          "model_module_version": "1.5.0",
          "state": {
            "_dom_classes": [],
            "_model_module": "@jupyter-widgets/controls",
            "_model_module_version": "1.5.0",
            "_model_name": "FloatProgressModel",
            "_view_count": null,
            "_view_module": "@jupyter-widgets/controls",
            "_view_module_version": "1.5.0",
            "_view_name": "ProgressView",
            "bar_style": "success",
            "description": "",
            "description_tooltip": null,
            "layout": "IPY_MODEL_701b9ae0b94940699d952c8451b20479",
            "max": 150,
            "min": 0,
            "orientation": "horizontal",
            "style": "IPY_MODEL_a46d9cf2b17d484cb5e632af917edc13",
            "value": 150
          }
        },
        "ae2ecc7c362548e295906151cf673b97": {
          "model_module": "@jupyter-widgets/controls",
          "model_name": "HTMLModel",
          "model_module_version": "1.5.0",
          "state": {
            "_dom_classes": [],
            "_model_module": "@jupyter-widgets/controls",
            "_model_module_version": "1.5.0",
            "_model_name": "HTMLModel",
            "_view_count": null,
            "_view_module": "@jupyter-widgets/controls",
            "_view_module_version": "1.5.0",
            "_view_name": "HTMLView",
            "description": "",
            "description_tooltip": null,
            "layout": "IPY_MODEL_7e6c8a8c4ad849cda67b7485947716f8",
            "placeholder": "​",
            "style": "IPY_MODEL_066fb636547f4528bb97f8793317e3a9",
            "value": " 150/150 [00:00&lt;00:00, 4.69kB/s]"
          }
        },
        "b3a54aadb5224ecf95df79eacf1b1fc6": {
          "model_module": "@jupyter-widgets/base",
          "model_name": "LayoutModel",
          "model_module_version": "1.2.0",
          "state": {
            "_model_module": "@jupyter-widgets/base",
            "_model_module_version": "1.2.0",
            "_model_name": "LayoutModel",
            "_view_count": null,
            "_view_module": "@jupyter-widgets/base",
            "_view_module_version": "1.2.0",
            "_view_name": "LayoutView",
            "align_content": null,
            "align_items": null,
            "align_self": null,
            "border": null,
            "bottom": null,
            "display": null,
            "flex": null,
            "flex_flow": null,
            "grid_area": null,
            "grid_auto_columns": null,
            "grid_auto_flow": null,
            "grid_auto_rows": null,
            "grid_column": null,
            "grid_gap": null,
            "grid_row": null,
            "grid_template_areas": null,
            "grid_template_columns": null,
            "grid_template_rows": null,
            "height": null,
            "justify_content": null,
            "justify_items": null,
            "left": null,
            "margin": null,
            "max_height": null,
            "max_width": null,
            "min_height": null,
            "min_width": null,
            "object_fit": null,
            "object_position": null,
            "order": null,
            "overflow": null,
            "overflow_x": null,
            "overflow_y": null,
            "padding": null,
            "right": null,
            "top": null,
            "visibility": null,
            "width": null
          }
        },
        "ae2835384e6a4c259d4e35d4f533551f": {
          "model_module": "@jupyter-widgets/base",
          "model_name": "LayoutModel",
          "model_module_version": "1.2.0",
          "state": {
            "_model_module": "@jupyter-widgets/base",
            "_model_module_version": "1.2.0",
            "_model_name": "LayoutModel",
            "_view_count": null,
            "_view_module": "@jupyter-widgets/base",
            "_view_module_version": "1.2.0",
            "_view_name": "LayoutView",
            "align_content": null,
            "align_items": null,
            "align_self": null,
            "border": null,
            "bottom": null,
            "display": null,
            "flex": null,
            "flex_flow": null,
            "grid_area": null,
            "grid_auto_columns": null,
            "grid_auto_flow": null,
            "grid_auto_rows": null,
            "grid_column": null,
            "grid_gap": null,
            "grid_row": null,
            "grid_template_areas": null,
            "grid_template_columns": null,
            "grid_template_rows": null,
            "height": null,
            "justify_content": null,
            "justify_items": null,
            "left": null,
            "margin": null,
            "max_height": null,
            "max_width": null,
            "min_height": null,
            "min_width": null,
            "object_fit": null,
            "object_position": null,
            "order": null,
            "overflow": null,
            "overflow_x": null,
            "overflow_y": null,
            "padding": null,
            "right": null,
            "top": null,
            "visibility": null,
            "width": null
          }
        },
        "4b49582b975349e68a7953c748a414e1": {
          "model_module": "@jupyter-widgets/controls",
          "model_name": "DescriptionStyleModel",
          "model_module_version": "1.5.0",
          "state": {
            "_model_module": "@jupyter-widgets/controls",
            "_model_module_version": "1.5.0",
            "_model_name": "DescriptionStyleModel",
            "_view_count": null,
            "_view_module": "@jupyter-widgets/base",
            "_view_module_version": "1.2.0",
            "_view_name": "StyleView",
            "description_width": ""
          }
        },
        "701b9ae0b94940699d952c8451b20479": {
          "model_module": "@jupyter-widgets/base",
          "model_name": "LayoutModel",
          "model_module_version": "1.2.0",
          "state": {
            "_model_module": "@jupyter-widgets/base",
            "_model_module_version": "1.2.0",
            "_model_name": "LayoutModel",
            "_view_count": null,
            "_view_module": "@jupyter-widgets/base",
            "_view_module_version": "1.2.0",
            "_view_name": "LayoutView",
            "align_content": null,
            "align_items": null,
            "align_self": null,
            "border": null,
            "bottom": null,
            "display": null,
            "flex": null,
            "flex_flow": null,
            "grid_area": null,
            "grid_auto_columns": null,
            "grid_auto_flow": null,
            "grid_auto_rows": null,
            "grid_column": null,
            "grid_gap": null,
            "grid_row": null,
            "grid_template_areas": null,
            "grid_template_columns": null,
            "grid_template_rows": null,
            "height": null,
            "justify_content": null,
            "justify_items": null,
            "left": null,
            "margin": null,
            "max_height": null,
            "max_width": null,
            "min_height": null,
            "min_width": null,
            "object_fit": null,
            "object_position": null,
            "order": null,
            "overflow": null,
            "overflow_x": null,
            "overflow_y": null,
            "padding": null,
            "right": null,
            "top": null,
            "visibility": null,
            "width": null
          }
        },
        "a46d9cf2b17d484cb5e632af917edc13": {
          "model_module": "@jupyter-widgets/controls",
          "model_name": "ProgressStyleModel",
          "model_module_version": "1.5.0",
          "state": {
            "_model_module": "@jupyter-widgets/controls",
            "_model_module_version": "1.5.0",
            "_model_name": "ProgressStyleModel",
            "_view_count": null,
            "_view_module": "@jupyter-widgets/base",
            "_view_module_version": "1.2.0",
            "_view_name": "StyleView",
            "bar_color": null,
            "description_width": ""
          }
        },
        "7e6c8a8c4ad849cda67b7485947716f8": {
          "model_module": "@jupyter-widgets/base",
          "model_name": "LayoutModel",
          "model_module_version": "1.2.0",
          "state": {
            "_model_module": "@jupyter-widgets/base",
            "_model_module_version": "1.2.0",
            "_model_name": "LayoutModel",
            "_view_count": null,
            "_view_module": "@jupyter-widgets/base",
            "_view_module_version": "1.2.0",
            "_view_name": "LayoutView",
            "align_content": null,
            "align_items": null,
            "align_self": null,
            "border": null,
            "bottom": null,
            "display": null,
            "flex": null,
            "flex_flow": null,
            "grid_area": null,
            "grid_auto_columns": null,
            "grid_auto_flow": null,
            "grid_auto_rows": null,
            "grid_column": null,
            "grid_gap": null,
            "grid_row": null,
            "grid_template_areas": null,
            "grid_template_columns": null,
            "grid_template_rows": null,
            "height": null,
            "justify_content": null,
            "justify_items": null,
            "left": null,
            "margin": null,
            "max_height": null,
            "max_width": null,
            "min_height": null,
            "min_width": null,
            "object_fit": null,
            "object_position": null,
            "order": null,
            "overflow": null,
            "overflow_x": null,
            "overflow_y": null,
            "padding": null,
            "right": null,
            "top": null,
            "visibility": null,
            "width": null
          }
        },
        "066fb636547f4528bb97f8793317e3a9": {
          "model_module": "@jupyter-widgets/controls",
          "model_name": "DescriptionStyleModel",
          "model_module_version": "1.5.0",
          "state": {
            "_model_module": "@jupyter-widgets/controls",
            "_model_module_version": "1.5.0",
            "_model_name": "DescriptionStyleModel",
            "_view_count": null,
            "_view_module": "@jupyter-widgets/base",
            "_view_module_version": "1.2.0",
            "_view_name": "StyleView",
            "description_width": ""
          }
        },
        "44745140dc0f407487f572c4097344eb": {
          "model_module": "@jupyter-widgets/controls",
          "model_name": "HBoxModel",
          "model_module_version": "1.5.0",
          "state": {
            "_dom_classes": [],
            "_model_module": "@jupyter-widgets/controls",
            "_model_module_version": "1.5.0",
            "_model_name": "HBoxModel",
            "_view_count": null,
            "_view_module": "@jupyter-widgets/controls",
            "_view_module_version": "1.5.0",
            "_view_name": "HBoxView",
            "box_style": "",
            "children": [
              "IPY_MODEL_aa5b14da1841457fb3e43060906f899d",
              "IPY_MODEL_ecde16d70a484ac58e072117eedacad0",
              "IPY_MODEL_d2dba0b6d36045b1a7348b806b1a9d3c"
            ],
            "layout": "IPY_MODEL_c6c51f68f8c246879fec044b38005d95"
          }
        },
        "aa5b14da1841457fb3e43060906f899d": {
          "model_module": "@jupyter-widgets/controls",
          "model_name": "HTMLModel",
          "model_module_version": "1.5.0",
          "state": {
            "_dom_classes": [],
            "_model_module": "@jupyter-widgets/controls",
            "_model_module_version": "1.5.0",
            "_model_name": "HTMLModel",
            "_view_count": null,
            "_view_module": "@jupyter-widgets/controls",
            "_view_module_version": "1.5.0",
            "_view_name": "HTMLView",
            "description": "",
            "description_tooltip": null,
            "layout": "IPY_MODEL_c71f285d8c5f4090b9b01cc96794369b",
            "placeholder": "​",
            "style": "IPY_MODEL_b78a47f5a41142a7932980c30405b6b0",
            "value": "Downloading: 100%"
          }
        },
        "ecde16d70a484ac58e072117eedacad0": {
          "model_module": "@jupyter-widgets/controls",
          "model_name": "FloatProgressModel",
          "model_module_version": "1.5.0",
          "state": {
            "_dom_classes": [],
            "_model_module": "@jupyter-widgets/controls",
            "_model_module_version": "1.5.0",
            "_model_name": "FloatProgressModel",
            "_view_count": null,
            "_view_module": "@jupyter-widgets/controls",
            "_view_module_version": "1.5.0",
            "_view_name": "ProgressView",
            "bar_style": "success",
            "description": "",
            "description_tooltip": null,
            "layout": "IPY_MODEL_4038ce07895342aaa81324bf9468ce3d",
            "max": 2244296816,
            "min": 0,
            "orientation": "horizontal",
            "style": "IPY_MODEL_9d8e9b0f181d454f9a39df786b86bc3b",
            "value": 2244296816
          }
        },
        "d2dba0b6d36045b1a7348b806b1a9d3c": {
          "model_module": "@jupyter-widgets/controls",
          "model_name": "HTMLModel",
          "model_module_version": "1.5.0",
          "state": {
            "_dom_classes": [],
            "_model_module": "@jupyter-widgets/controls",
            "_model_module_version": "1.5.0",
            "_model_name": "HTMLModel",
            "_view_count": null,
            "_view_module": "@jupyter-widgets/controls",
            "_view_module_version": "1.5.0",
            "_view_name": "HTMLView",
            "description": "",
            "description_tooltip": null,
            "layout": "IPY_MODEL_c538dbd46ff14964b50afc3b3b9f5204",
            "placeholder": "​",
            "style": "IPY_MODEL_83b747dfc5534be48dc7b16d66252673",
            "value": " 2.09G/2.09G [01:33&lt;00:00, 20.9MB/s]"
          }
        },
        "c6c51f68f8c246879fec044b38005d95": {
          "model_module": "@jupyter-widgets/base",
          "model_name": "LayoutModel",
          "model_module_version": "1.2.0",
          "state": {
            "_model_module": "@jupyter-widgets/base",
            "_model_module_version": "1.2.0",
            "_model_name": "LayoutModel",
            "_view_count": null,
            "_view_module": "@jupyter-widgets/base",
            "_view_module_version": "1.2.0",
            "_view_name": "LayoutView",
            "align_content": null,
            "align_items": null,
            "align_self": null,
            "border": null,
            "bottom": null,
            "display": null,
            "flex": null,
            "flex_flow": null,
            "grid_area": null,
            "grid_auto_columns": null,
            "grid_auto_flow": null,
            "grid_auto_rows": null,
            "grid_column": null,
            "grid_gap": null,
            "grid_row": null,
            "grid_template_areas": null,
            "grid_template_columns": null,
            "grid_template_rows": null,
            "height": null,
            "justify_content": null,
            "justify_items": null,
            "left": null,
            "margin": null,
            "max_height": null,
            "max_width": null,
            "min_height": null,
            "min_width": null,
            "object_fit": null,
            "object_position": null,
            "order": null,
            "overflow": null,
            "overflow_x": null,
            "overflow_y": null,
            "padding": null,
            "right": null,
            "top": null,
            "visibility": null,
            "width": null
          }
        },
        "c71f285d8c5f4090b9b01cc96794369b": {
          "model_module": "@jupyter-widgets/base",
          "model_name": "LayoutModel",
          "model_module_version": "1.2.0",
          "state": {
            "_model_module": "@jupyter-widgets/base",
            "_model_module_version": "1.2.0",
            "_model_name": "LayoutModel",
            "_view_count": null,
            "_view_module": "@jupyter-widgets/base",
            "_view_module_version": "1.2.0",
            "_view_name": "LayoutView",
            "align_content": null,
            "align_items": null,
            "align_self": null,
            "border": null,
            "bottom": null,
            "display": null,
            "flex": null,
            "flex_flow": null,
            "grid_area": null,
            "grid_auto_columns": null,
            "grid_auto_flow": null,
            "grid_auto_rows": null,
            "grid_column": null,
            "grid_gap": null,
            "grid_row": null,
            "grid_template_areas": null,
            "grid_template_columns": null,
            "grid_template_rows": null,
            "height": null,
            "justify_content": null,
            "justify_items": null,
            "left": null,
            "margin": null,
            "max_height": null,
            "max_width": null,
            "min_height": null,
            "min_width": null,
            "object_fit": null,
            "object_position": null,
            "order": null,
            "overflow": null,
            "overflow_x": null,
            "overflow_y": null,
            "padding": null,
            "right": null,
            "top": null,
            "visibility": null,
            "width": null
          }
        },
        "b78a47f5a41142a7932980c30405b6b0": {
          "model_module": "@jupyter-widgets/controls",
          "model_name": "DescriptionStyleModel",
          "model_module_version": "1.5.0",
          "state": {
            "_model_module": "@jupyter-widgets/controls",
            "_model_module_version": "1.5.0",
            "_model_name": "DescriptionStyleModel",
            "_view_count": null,
            "_view_module": "@jupyter-widgets/base",
            "_view_module_version": "1.2.0",
            "_view_name": "StyleView",
            "description_width": ""
          }
        },
        "4038ce07895342aaa81324bf9468ce3d": {
          "model_module": "@jupyter-widgets/base",
          "model_name": "LayoutModel",
          "model_module_version": "1.2.0",
          "state": {
            "_model_module": "@jupyter-widgets/base",
            "_model_module_version": "1.2.0",
            "_model_name": "LayoutModel",
            "_view_count": null,
            "_view_module": "@jupyter-widgets/base",
            "_view_module_version": "1.2.0",
            "_view_name": "LayoutView",
            "align_content": null,
            "align_items": null,
            "align_self": null,
            "border": null,
            "bottom": null,
            "display": null,
            "flex": null,
            "flex_flow": null,
            "grid_area": null,
            "grid_auto_columns": null,
            "grid_auto_flow": null,
            "grid_auto_rows": null,
            "grid_column": null,
            "grid_gap": null,
            "grid_row": null,
            "grid_template_areas": null,
            "grid_template_columns": null,
            "grid_template_rows": null,
            "height": null,
            "justify_content": null,
            "justify_items": null,
            "left": null,
            "margin": null,
            "max_height": null,
            "max_width": null,
            "min_height": null,
            "min_width": null,
            "object_fit": null,
            "object_position": null,
            "order": null,
            "overflow": null,
            "overflow_x": null,
            "overflow_y": null,
            "padding": null,
            "right": null,
            "top": null,
            "visibility": null,
            "width": null
          }
        },
        "9d8e9b0f181d454f9a39df786b86bc3b": {
          "model_module": "@jupyter-widgets/controls",
          "model_name": "ProgressStyleModel",
          "model_module_version": "1.5.0",
          "state": {
            "_model_module": "@jupyter-widgets/controls",
            "_model_module_version": "1.5.0",
            "_model_name": "ProgressStyleModel",
            "_view_count": null,
            "_view_module": "@jupyter-widgets/base",
            "_view_module_version": "1.2.0",
            "_view_name": "StyleView",
            "bar_color": null,
            "description_width": ""
          }
        },
        "c538dbd46ff14964b50afc3b3b9f5204": {
          "model_module": "@jupyter-widgets/base",
          "model_name": "LayoutModel",
          "model_module_version": "1.2.0",
          "state": {
            "_model_module": "@jupyter-widgets/base",
            "_model_module_version": "1.2.0",
            "_model_name": "LayoutModel",
            "_view_count": null,
            "_view_module": "@jupyter-widgets/base",
            "_view_module_version": "1.2.0",
            "_view_name": "LayoutView",
            "align_content": null,
            "align_items": null,
            "align_self": null,
            "border": null,
            "bottom": null,
            "display": null,
            "flex": null,
            "flex_flow": null,
            "grid_area": null,
            "grid_auto_columns": null,
            "grid_auto_flow": null,
            "grid_auto_rows": null,
            "grid_column": null,
            "grid_gap": null,
            "grid_row": null,
            "grid_template_areas": null,
            "grid_template_columns": null,
            "grid_template_rows": null,
            "height": null,
            "justify_content": null,
            "justify_items": null,
            "left": null,
            "margin": null,
            "max_height": null,
            "max_width": null,
            "min_height": null,
            "min_width": null,
            "object_fit": null,
            "object_position": null,
            "order": null,
            "overflow": null,
            "overflow_x": null,
            "overflow_y": null,
            "padding": null,
            "right": null,
            "top": null,
            "visibility": null,
            "width": null
          }
        },
        "83b747dfc5534be48dc7b16d66252673": {
          "model_module": "@jupyter-widgets/controls",
          "model_name": "DescriptionStyleModel",
          "model_module_version": "1.5.0",
          "state": {
            "_model_module": "@jupyter-widgets/controls",
            "_model_module_version": "1.5.0",
            "_model_name": "DescriptionStyleModel",
            "_view_count": null,
            "_view_module": "@jupyter-widgets/base",
            "_view_module_version": "1.2.0",
            "_view_name": "StyleView",
            "description_width": ""
          }
        }
      }
    }
  },
  "nbformat": 4,
  "nbformat_minor": 0
}